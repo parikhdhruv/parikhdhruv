{
 "cells": [
  {
   "cell_type": "code",
   "execution_count": 1,
   "id": "ad7721cf-cd71-499d-b713-48c3e786cc70",
   "metadata": {},
   "outputs": [
    {
     "name": "stdout",
     "output_type": "stream",
     "text": [
      "Collecting pandas-datareader\n",
      "  Downloading pandas_datareader-0.10.0-py3-none-any.whl (109 kB)\n",
      "Requirement already satisfied: lxml in c:\\users\\hp\\anaconda3\\lib\\site-packages (from pandas-datareader) (4.8.0)\n",
      "Requirement already satisfied: requests>=2.19.0 in c:\\users\\hp\\anaconda3\\lib\\site-packages (from pandas-datareader) (2.27.1)\n",
      "Requirement already satisfied: pandas>=0.23 in c:\\users\\hp\\anaconda3\\lib\\site-packages (from pandas-datareader) (1.4.2)\n",
      "Requirement already satisfied: pytz>=2020.1 in c:\\users\\hp\\anaconda3\\lib\\site-packages (from pandas>=0.23->pandas-datareader) (2021.3)\n",
      "Requirement already satisfied: python-dateutil>=2.8.1 in c:\\users\\hp\\anaconda3\\lib\\site-packages (from pandas>=0.23->pandas-datareader) (2.8.2)\n",
      "Requirement already satisfied: numpy>=1.18.5 in c:\\users\\hp\\anaconda3\\lib\\site-packages (from pandas>=0.23->pandas-datareader) (1.21.5)\n",
      "Requirement already satisfied: six>=1.5 in c:\\users\\hp\\anaconda3\\lib\\site-packages (from python-dateutil>=2.8.1->pandas>=0.23->pandas-datareader) (1.16.0)\n",
      "Requirement already satisfied: urllib3<1.27,>=1.21.1 in c:\\users\\hp\\anaconda3\\lib\\site-packages (from requests>=2.19.0->pandas-datareader) (1.26.9)\n",
      "Requirement already satisfied: certifi>=2017.4.17 in c:\\users\\hp\\anaconda3\\lib\\site-packages (from requests>=2.19.0->pandas-datareader) (2021.10.8)\n",
      "Requirement already satisfied: charset-normalizer~=2.0.0 in c:\\users\\hp\\anaconda3\\lib\\site-packages (from requests>=2.19.0->pandas-datareader) (2.0.4)\n",
      "Requirement already satisfied: idna<4,>=2.5 in c:\\users\\hp\\anaconda3\\lib\\site-packages (from requests>=2.19.0->pandas-datareader) (3.3)\n",
      "Installing collected packages: pandas-datareader\n",
      "Successfully installed pandas-datareader-0.10.0\n"
     ]
    }
   ],
   "source": [
    "!pip install pandas-datareader"
   ]
  },
  {
   "cell_type": "code",
   "execution_count": 1,
   "id": "fb5d1cf3-ca74-46d7-b51b-fc983fd326f3",
   "metadata": {},
   "outputs": [],
   "source": [
    "import pandas_datareader as pdr\n",
    "import pandas as pd \n",
    "from datetime import datetime "
   ]
  },
  {
   "cell_type": "code",
   "execution_count": 10,
   "id": "2322097d-592f-4100-b7e3-5d3bbfff28e7",
   "metadata": {},
   "outputs": [
    {
     "name": "stdout",
     "output_type": "stream",
     "text": [
      "Collecting yfinance\n",
      "  Using cached yfinance-0.2.28-py2.py3-none-any.whl (65 kB)\n",
      "Requirement already satisfied: multitasking>=0.0.7 in c:\\users\\hp\\anaconda3\\lib\\site-packages (from yfinance) (0.0.11)\n",
      "Requirement already satisfied: appdirs>=1.4.4 in c:\\users\\hp\\anaconda3\\lib\\site-packages (from yfinance) (1.4.4)\n",
      "Collecting html5lib>=1.1\n",
      "  Using cached html5lib-1.1-py2.py3-none-any.whl (112 kB)\n",
      "Requirement already satisfied: pandas>=1.3.0 in c:\\users\\hp\\anaconda3\\lib\\site-packages (from yfinance) (1.4.2)\n",
      "Requirement already satisfied: numpy>=1.16.5 in c:\\users\\hp\\anaconda3\\lib\\site-packages (from yfinance) (1.21.5)\n",
      "Requirement already satisfied: lxml>=4.9.1 in c:\\users\\hp\\anaconda3\\lib\\site-packages (from yfinance) (4.9.3)\n",
      "Requirement already satisfied: requests>=2.31 in c:\\users\\hp\\anaconda3\\lib\\site-packages (from yfinance) (2.31.0)\n",
      "Requirement already satisfied: pytz>=2022.5 in c:\\users\\hp\\anaconda3\\lib\\site-packages (from yfinance) (2023.3)\n",
      "Collecting frozendict>=2.3.4\n",
      "  Using cached frozendict-2.3.8-cp39-cp39-win_amd64.whl (35 kB)\n",
      "Requirement already satisfied: beautifulsoup4>=4.11.1 in c:\\users\\hp\\anaconda3\\lib\\site-packages (from yfinance) (4.11.1)\n",
      "Requirement already satisfied: soupsieve>1.2 in c:\\users\\hp\\anaconda3\\lib\\site-packages (from beautifulsoup4>=4.11.1->yfinance) (2.3.1)\n",
      "Requirement already satisfied: six>=1.9 in c:\\users\\hp\\anaconda3\\lib\\site-packages (from html5lib>=1.1->yfinance) (1.16.0)\n",
      "Requirement already satisfied: webencodings in c:\\users\\hp\\anaconda3\\lib\\site-packages (from html5lib>=1.1->yfinance) (0.5.1)\n",
      "Requirement already satisfied: python-dateutil>=2.8.1 in c:\\users\\hp\\anaconda3\\lib\\site-packages (from pandas>=1.3.0->yfinance) (2.8.2)\n",
      "Requirement already satisfied: urllib3<3,>=1.21.1 in c:\\users\\hp\\anaconda3\\lib\\site-packages (from requests>=2.31->yfinance) (1.26.9)\n",
      "Requirement already satisfied: charset-normalizer<4,>=2 in c:\\users\\hp\\anaconda3\\lib\\site-packages (from requests>=2.31->yfinance) (2.0.4)\n",
      "Requirement already satisfied: certifi>=2017.4.17 in c:\\users\\hp\\anaconda3\\lib\\site-packages (from requests>=2.31->yfinance) (2021.10.8)\n",
      "Requirement already satisfied: idna<4,>=2.5 in c:\\users\\hp\\anaconda3\\lib\\site-packages (from requests>=2.31->yfinance) (3.3)\n",
      "Installing collected packages: html5lib, frozendict, yfinance\n",
      "Successfully installed frozendict-2.3.8 html5lib-1.1 yfinance-0.2.28\n"
     ]
    }
   ],
   "source": [
    "!pip install yfinance\n"
   ]
  },
  {
   "cell_type": "code",
   "execution_count": 387,
   "id": "b0c0187e-c2c9-4cb4-b559-5f9e2f357df2",
   "metadata": {},
   "outputs": [
    {
     "name": "stdout",
     "output_type": "stream",
     "text": [
      "[*********************100%%**********************]  1 of 1 completed\n"
     ]
    }
   ],
   "source": [
    "import yfinance as yf\n",
    "\n",
    "# Fetch Tesla's stock data\n",
    "ticker = 'AAPL'\n",
    "start_date = '2020-01-15'  # Replace with your desired start date\n",
    "end_date = '2023-09-6'    # Replace with your desired end date\n",
    "\n",
    "apple_data = yf.download(ticker, start=start_date, end=end_date)\n",
    "\n"
   ]
  },
  {
   "cell_type": "code",
   "execution_count": 388,
   "id": "81844df4-6baf-420d-9d18-4764cf6a606a",
   "metadata": {},
   "outputs": [
    {
     "data": {
      "text/html": [
       "<div>\n",
       "<style scoped>\n",
       "    .dataframe tbody tr th:only-of-type {\n",
       "        vertical-align: middle;\n",
       "    }\n",
       "\n",
       "    .dataframe tbody tr th {\n",
       "        vertical-align: top;\n",
       "    }\n",
       "\n",
       "    .dataframe thead th {\n",
       "        text-align: right;\n",
       "    }\n",
       "</style>\n",
       "<table border=\"1\" class=\"dataframe\">\n",
       "  <thead>\n",
       "    <tr style=\"text-align: right;\">\n",
       "      <th></th>\n",
       "      <th>Open</th>\n",
       "      <th>High</th>\n",
       "      <th>Low</th>\n",
       "      <th>Close</th>\n",
       "      <th>Adj Close</th>\n",
       "      <th>Volume</th>\n",
       "    </tr>\n",
       "    <tr>\n",
       "      <th>Date</th>\n",
       "      <th></th>\n",
       "      <th></th>\n",
       "      <th></th>\n",
       "      <th></th>\n",
       "      <th></th>\n",
       "      <th></th>\n",
       "    </tr>\n",
       "  </thead>\n",
       "  <tbody>\n",
       "    <tr>\n",
       "      <th>2020-01-15</th>\n",
       "      <td>77.962502</td>\n",
       "      <td>78.875000</td>\n",
       "      <td>77.387497</td>\n",
       "      <td>77.834999</td>\n",
       "      <td>75.929253</td>\n",
       "      <td>121923600</td>\n",
       "    </tr>\n",
       "    <tr>\n",
       "      <th>2020-01-16</th>\n",
       "      <td>78.397499</td>\n",
       "      <td>78.925003</td>\n",
       "      <td>78.022499</td>\n",
       "      <td>78.809998</td>\n",
       "      <td>76.880371</td>\n",
       "      <td>108829200</td>\n",
       "    </tr>\n",
       "    <tr>\n",
       "      <th>2020-01-17</th>\n",
       "      <td>79.067497</td>\n",
       "      <td>79.684998</td>\n",
       "      <td>78.750000</td>\n",
       "      <td>79.682503</td>\n",
       "      <td>77.731529</td>\n",
       "      <td>137816400</td>\n",
       "    </tr>\n",
       "    <tr>\n",
       "      <th>2020-01-21</th>\n",
       "      <td>79.297501</td>\n",
       "      <td>79.754997</td>\n",
       "      <td>79.000000</td>\n",
       "      <td>79.142502</td>\n",
       "      <td>77.204742</td>\n",
       "      <td>110843200</td>\n",
       "    </tr>\n",
       "    <tr>\n",
       "      <th>2020-01-22</th>\n",
       "      <td>79.644997</td>\n",
       "      <td>79.997498</td>\n",
       "      <td>79.327499</td>\n",
       "      <td>79.425003</td>\n",
       "      <td>77.480331</td>\n",
       "      <td>101832400</td>\n",
       "    </tr>\n",
       "    <tr>\n",
       "      <th>...</th>\n",
       "      <td>...</td>\n",
       "      <td>...</td>\n",
       "      <td>...</td>\n",
       "      <td>...</td>\n",
       "      <td>...</td>\n",
       "      <td>...</td>\n",
       "    </tr>\n",
       "    <tr>\n",
       "      <th>2023-08-29</th>\n",
       "      <td>179.699997</td>\n",
       "      <td>184.899994</td>\n",
       "      <td>179.500000</td>\n",
       "      <td>184.119995</td>\n",
       "      <td>184.119995</td>\n",
       "      <td>53003900</td>\n",
       "    </tr>\n",
       "    <tr>\n",
       "      <th>2023-08-30</th>\n",
       "      <td>184.940002</td>\n",
       "      <td>187.850006</td>\n",
       "      <td>184.740005</td>\n",
       "      <td>187.649994</td>\n",
       "      <td>187.649994</td>\n",
       "      <td>60813900</td>\n",
       "    </tr>\n",
       "    <tr>\n",
       "      <th>2023-08-31</th>\n",
       "      <td>187.839996</td>\n",
       "      <td>189.119995</td>\n",
       "      <td>187.479996</td>\n",
       "      <td>187.869995</td>\n",
       "      <td>187.869995</td>\n",
       "      <td>60794500</td>\n",
       "    </tr>\n",
       "    <tr>\n",
       "      <th>2023-09-01</th>\n",
       "      <td>189.490005</td>\n",
       "      <td>189.919998</td>\n",
       "      <td>188.279999</td>\n",
       "      <td>189.460007</td>\n",
       "      <td>189.460007</td>\n",
       "      <td>45732600</td>\n",
       "    </tr>\n",
       "    <tr>\n",
       "      <th>2023-09-05</th>\n",
       "      <td>188.279999</td>\n",
       "      <td>189.979996</td>\n",
       "      <td>187.610001</td>\n",
       "      <td>189.699997</td>\n",
       "      <td>189.699997</td>\n",
       "      <td>45230700</td>\n",
       "    </tr>\n",
       "  </tbody>\n",
       "</table>\n",
       "<p>916 rows × 6 columns</p>\n",
       "</div>"
      ],
      "text/plain": [
       "                  Open        High         Low       Close   Adj Close  \\\n",
       "Date                                                                     \n",
       "2020-01-15   77.962502   78.875000   77.387497   77.834999   75.929253   \n",
       "2020-01-16   78.397499   78.925003   78.022499   78.809998   76.880371   \n",
       "2020-01-17   79.067497   79.684998   78.750000   79.682503   77.731529   \n",
       "2020-01-21   79.297501   79.754997   79.000000   79.142502   77.204742   \n",
       "2020-01-22   79.644997   79.997498   79.327499   79.425003   77.480331   \n",
       "...                ...         ...         ...         ...         ...   \n",
       "2023-08-29  179.699997  184.899994  179.500000  184.119995  184.119995   \n",
       "2023-08-30  184.940002  187.850006  184.740005  187.649994  187.649994   \n",
       "2023-08-31  187.839996  189.119995  187.479996  187.869995  187.869995   \n",
       "2023-09-01  189.490005  189.919998  188.279999  189.460007  189.460007   \n",
       "2023-09-05  188.279999  189.979996  187.610001  189.699997  189.699997   \n",
       "\n",
       "               Volume  \n",
       "Date                   \n",
       "2020-01-15  121923600  \n",
       "2020-01-16  108829200  \n",
       "2020-01-17  137816400  \n",
       "2020-01-21  110843200  \n",
       "2020-01-22  101832400  \n",
       "...               ...  \n",
       "2023-08-29   53003900  \n",
       "2023-08-30   60813900  \n",
       "2023-08-31   60794500  \n",
       "2023-09-01   45732600  \n",
       "2023-09-05   45230700  \n",
       "\n",
       "[916 rows x 6 columns]"
      ]
     },
     "execution_count": 388,
     "metadata": {},
     "output_type": "execute_result"
    }
   ],
   "source": [
    "apple_data"
   ]
  },
  {
   "cell_type": "code",
   "execution_count": 389,
   "id": "b2a4d6de-0804-4391-99d8-5e5d03503645",
   "metadata": {},
   "outputs": [
    {
     "data": {
      "text/plain": [
       "<AxesSubplot:xlabel='Date'>"
      ]
     },
     "execution_count": 389,
     "metadata": {},
     "output_type": "execute_result"
    },
    {
     "data": {
      "image/png": "[encoded data removed]",
      "text/plain": [
       "<Figure size 864x432 with 1 Axes>"
      ]
     },
     "metadata": {
      "needs_background": "light"
     },
     "output_type": "display_data"
    }
   ],
   "source": [
    "apple_data['High'].plot(figsize=(12,6))"
   ]
  },
  {
   "cell_type": "code",
   "execution_count": 390,
   "id": "5b16abf6-3868-4653-91e5-b3824f0cbcbe",
   "metadata": {},
   "outputs": [
    {
     "data": {
      "text/plain": [
       "<AxesSubplot:xlabel='Date'>"
      ]
     },
     "execution_count": 390,
     "metadata": {},
     "output_type": "execute_result"
    },
    {
     "data": {
      "image/png": "[encoded data removed]",
      "text/plain": [
       "<Figure size 864x432 with 1 Axes>"
      ]
     },
     "metadata": {
      "needs_background": "light"
     },
     "output_type": "display_data"
    }
   ],
   "source": [
    "#setting limits to get a exact time frame \n",
    "apple_data['High'].plot(xlim=['2021-01-01','2022-12-31'],figsize=(12,6))"
   ]
  },
  {
   "cell_type": "code",
   "execution_count": 391,
   "id": "cb7eb795-30e2-44b1-93f4-110c789d28b4",
   "metadata": {},
   "outputs": [],
   "source": [
    "index=apple_data.loc['2021-01-01':'2022-12-31'].index"
   ]
  },
  {
   "cell_type": "code",
   "execution_count": 392,
   "id": "8a1cb3cd-bfe9-4e83-bce3-8779dae43205",
   "metadata": {},
   "outputs": [],
   "source": [
    "share_open=apple_data.loc['2021-01-01':'2022-12-31']['Open']"
   ]
  },
  {
   "cell_type": "code",
   "execution_count": 393,
   "id": "0e520e7b-98f9-4361-bc57-2e1c768fbbff",
   "metadata": {},
   "outputs": [],
   "source": [
    "import matplotlib.pyplot as plt\n",
    "%matplotlib inline"
   ]
  },
  {
   "cell_type": "code",
   "execution_count": 394,
   "id": "d781797a-58a5-42f7-a415-01840fc1374e",
   "metadata": {},
   "outputs": [
    {
     "data": {
      "text/plain": [
       "[<matplotlib.lines.Line2D at 0x165b6201ee0>]"
      ]
     },
     "execution_count": 394,
     "metadata": {},
     "output_type": "execute_result"
    },
    {
     "data": {
      "image/png": "[encoded data removed]",
      "text/plain": [
       "<Figure size 432x288 with 1 Axes>"
      ]
     },
     "metadata": {
      "needs_background": "light"
     },
     "output_type": "display_data"
    }
   ],
   "source": [
    "figure,axis=plt.subplots()\n",
    "plt.tight_layout\n",
    "figure.autofmt_xdate()#done so that date doesn't overlap \n",
    "axis.plot(index,share_open)"
   ]
  },
  {
   "cell_type": "code",
   "execution_count": 395,
   "id": "8f0f3984-91d7-41e7-8647-020fad02b108",
   "metadata": {},
   "outputs": [],
   "source": [
    "apple_data=apple_data.reset_index()"
   ]
  },
  {
   "cell_type": "code",
   "execution_count": 396,
   "id": "a4fc2820-24a9-4086-b5bd-7047bbec9a33",
   "metadata": {},
   "outputs": [
    {
     "name": "stdout",
     "output_type": "stream",
     "text": [
      "<class 'pandas.core.frame.DataFrame'>\n",
      "RangeIndex: 916 entries, 0 to 915\n",
      "Data columns (total 7 columns):\n",
      " #   Column     Non-Null Count  Dtype         \n",
      "---  ------     --------------  -----         \n",
      " 0   Date       916 non-null    datetime64[ns]\n",
      " 1   Open       916 non-null    float64       \n",
      " 2   High       916 non-null    float64       \n",
      " 3   Low        916 non-null    float64       \n",
      " 4   Close      916 non-null    float64       \n",
      " 5   Adj Close  916 non-null    float64       \n",
      " 6   Volume     916 non-null    int64         \n",
      "dtypes: datetime64[ns](1), float64(5), int64(1)\n",
      "memory usage: 50.2 KB\n"
     ]
    }
   ],
   "source": [
    "apple_data.info()#conversion of index to columns for datetime "
   ]
  },
  {
   "cell_type": "code",
   "execution_count": 397,
   "id": "0041fafc-fa98-4c6b-a356-561eca1b88de",
   "metadata": {},
   "outputs": [],
   "source": [
    "apple_data=apple_data.set_index('Date',drop=True)"
   ]
  },
  {
   "cell_type": "code",
   "execution_count": 398,
   "id": "fff4726b-201f-47ac-88bd-70a431098def",
   "metadata": {},
   "outputs": [
    {
     "data": {
      "text/html": [
       "<div>\n",
       "<style scoped>\n",
       "    .dataframe tbody tr th:only-of-type {\n",
       "        vertical-align: middle;\n",
       "    }\n",
       "\n",
       "    .dataframe tbody tr th {\n",
       "        vertical-align: top;\n",
       "    }\n",
       "\n",
       "    .dataframe thead th {\n",
       "        text-align: right;\n",
       "    }\n",
       "</style>\n",
       "<table border=\"1\" class=\"dataframe\">\n",
       "  <thead>\n",
       "    <tr style=\"text-align: right;\">\n",
       "      <th></th>\n",
       "      <th>Open</th>\n",
       "      <th>High</th>\n",
       "      <th>Low</th>\n",
       "      <th>Close</th>\n",
       "      <th>Adj Close</th>\n",
       "      <th>Volume</th>\n",
       "    </tr>\n",
       "    <tr>\n",
       "      <th>Date</th>\n",
       "      <th></th>\n",
       "      <th></th>\n",
       "      <th></th>\n",
       "      <th></th>\n",
       "      <th></th>\n",
       "      <th></th>\n",
       "    </tr>\n",
       "  </thead>\n",
       "  <tbody>\n",
       "    <tr>\n",
       "      <th>2020-01-15</th>\n",
       "      <td>77.962502</td>\n",
       "      <td>78.875000</td>\n",
       "      <td>77.387497</td>\n",
       "      <td>77.834999</td>\n",
       "      <td>75.929253</td>\n",
       "      <td>121923600</td>\n",
       "    </tr>\n",
       "    <tr>\n",
       "      <th>2020-01-16</th>\n",
       "      <td>78.397499</td>\n",
       "      <td>78.925003</td>\n",
       "      <td>78.022499</td>\n",
       "      <td>78.809998</td>\n",
       "      <td>76.880371</td>\n",
       "      <td>108829200</td>\n",
       "    </tr>\n",
       "    <tr>\n",
       "      <th>2020-01-17</th>\n",
       "      <td>79.067497</td>\n",
       "      <td>79.684998</td>\n",
       "      <td>78.750000</td>\n",
       "      <td>79.682503</td>\n",
       "      <td>77.731529</td>\n",
       "      <td>137816400</td>\n",
       "    </tr>\n",
       "    <tr>\n",
       "      <th>2020-01-21</th>\n",
       "      <td>79.297501</td>\n",
       "      <td>79.754997</td>\n",
       "      <td>79.000000</td>\n",
       "      <td>79.142502</td>\n",
       "      <td>77.204742</td>\n",
       "      <td>110843200</td>\n",
       "    </tr>\n",
       "    <tr>\n",
       "      <th>2020-01-22</th>\n",
       "      <td>79.644997</td>\n",
       "      <td>79.997498</td>\n",
       "      <td>79.327499</td>\n",
       "      <td>79.425003</td>\n",
       "      <td>77.480331</td>\n",
       "      <td>101832400</td>\n",
       "    </tr>\n",
       "    <tr>\n",
       "      <th>...</th>\n",
       "      <td>...</td>\n",
       "      <td>...</td>\n",
       "      <td>...</td>\n",
       "      <td>...</td>\n",
       "      <td>...</td>\n",
       "      <td>...</td>\n",
       "    </tr>\n",
       "    <tr>\n",
       "      <th>2023-08-29</th>\n",
       "      <td>179.699997</td>\n",
       "      <td>184.899994</td>\n",
       "      <td>179.500000</td>\n",
       "      <td>184.119995</td>\n",
       "      <td>184.119995</td>\n",
       "      <td>53003900</td>\n",
       "    </tr>\n",
       "    <tr>\n",
       "      <th>2023-08-30</th>\n",
       "      <td>184.940002</td>\n",
       "      <td>187.850006</td>\n",
       "      <td>184.740005</td>\n",
       "      <td>187.649994</td>\n",
       "      <td>187.649994</td>\n",
       "      <td>60813900</td>\n",
       "    </tr>\n",
       "    <tr>\n",
       "      <th>2023-08-31</th>\n",
       "      <td>187.839996</td>\n",
       "      <td>189.119995</td>\n",
       "      <td>187.479996</td>\n",
       "      <td>187.869995</td>\n",
       "      <td>187.869995</td>\n",
       "      <td>60794500</td>\n",
       "    </tr>\n",
       "    <tr>\n",
       "      <th>2023-09-01</th>\n",
       "      <td>189.490005</td>\n",
       "      <td>189.919998</td>\n",
       "      <td>188.279999</td>\n",
       "      <td>189.460007</td>\n",
       "      <td>189.460007</td>\n",
       "      <td>45732600</td>\n",
       "    </tr>\n",
       "    <tr>\n",
       "      <th>2023-09-05</th>\n",
       "      <td>188.279999</td>\n",
       "      <td>189.979996</td>\n",
       "      <td>187.610001</td>\n",
       "      <td>189.699997</td>\n",
       "      <td>189.699997</td>\n",
       "      <td>45230700</td>\n",
       "    </tr>\n",
       "  </tbody>\n",
       "</table>\n",
       "<p>916 rows × 6 columns</p>\n",
       "</div>"
      ],
      "text/plain": [
       "                  Open        High         Low       Close   Adj Close  \\\n",
       "Date                                                                     \n",
       "2020-01-15   77.962502   78.875000   77.387497   77.834999   75.929253   \n",
       "2020-01-16   78.397499   78.925003   78.022499   78.809998   76.880371   \n",
       "2020-01-17   79.067497   79.684998   78.750000   79.682503   77.731529   \n",
       "2020-01-21   79.297501   79.754997   79.000000   79.142502   77.204742   \n",
       "2020-01-22   79.644997   79.997498   79.327499   79.425003   77.480331   \n",
       "...                ...         ...         ...         ...         ...   \n",
       "2023-08-29  179.699997  184.899994  179.500000  184.119995  184.119995   \n",
       "2023-08-30  184.940002  187.850006  184.740005  187.649994  187.649994   \n",
       "2023-08-31  187.839996  189.119995  187.479996  187.869995  187.869995   \n",
       "2023-09-01  189.490005  189.919998  188.279999  189.460007  189.460007   \n",
       "2023-09-05  188.279999  189.979996  187.610001  189.699997  189.699997   \n",
       "\n",
       "               Volume  \n",
       "Date                   \n",
       "2020-01-15  121923600  \n",
       "2020-01-16  108829200  \n",
       "2020-01-17  137816400  \n",
       "2020-01-21  110843200  \n",
       "2020-01-22  101832400  \n",
       "...               ...  \n",
       "2023-08-29   53003900  \n",
       "2023-08-30   60813900  \n",
       "2023-08-31   60794500  \n",
       "2023-09-01   45732600  \n",
       "2023-09-05   45230700  \n",
       "\n",
       "[916 rows x 6 columns]"
      ]
     },
     "execution_count": 398,
     "metadata": {},
     "output_type": "execute_result"
    }
   ],
   "source": [
    "apple_data"
   ]
  },
  {
   "cell_type": "code",
   "execution_count": 399,
   "id": "2c7520d4-4e5f-4761-a40f-95c088418371",
   "metadata": {},
   "outputs": [],
   "source": [
    " #\"#resampling would be useful to convert the data into different frequency such as year or month \\n\",\"#The other rule is that it can be used to group datasets according to column  we can't use groupby as it does according to column \\n\",\n",
    "   # \"#M signifies Month min is the total lowest of that entire month \\n\","
   ]
  },
  {
   "cell_type": "code",
   "execution_count": 400,
   "id": "6949a489-3a00-4921-9ee1-1ea3b2a7b6f9",
   "metadata": {},
   "outputs": [],
   "source": [
    "apple_data1=apple_data['Open'].resample(rule='QS').max()"
   ]
  },
  {
   "cell_type": "code",
   "execution_count": 401,
   "id": "6821238a-022a-44e2-a0d2-b45acd5024b8",
   "metadata": {},
   "outputs": [],
   "source": [
    "apple_data2=apple_data['Open'].resample(rule='M').max()"
   ]
  },
  {
   "cell_type": "code",
   "execution_count": 402,
   "id": "fdaf2bc4-c03f-422b-abc6-a3d8c1cfe36e",
   "metadata": {},
   "outputs": [
    {
     "data": {
      "text/plain": [
       "<AxesSubplot:xlabel='Date'>"
      ]
     },
     "execution_count": 402,
     "metadata": {},
     "output_type": "execute_result"
    },
    {
     "data": {
      "image/png": "[encoded data removed]",
      "text/plain": [
       "<Figure size 432x288 with 1 Axes>"
      ]
     },
     "metadata": {
      "needs_background": "light"
     },
     "output_type": "display_data"
    }
   ],
   "source": [
    "apple_data1.plot(kind='bar')"
   ]
  },
  {
   "cell_type": "code",
   "execution_count": 403,
   "id": "03fb0f31-0fdc-427f-bee1-3b805555c70a",
   "metadata": {},
   "outputs": [],
   "source": [
    "#The use of rolling is to calculate according to a certain window which would be specified \\n\","
   ]
  },
  {
   "cell_type": "code",
   "execution_count": 404,
   "id": "ea16ff3e-614b-4378-bdcd-b738900fac03",
   "metadata": {},
   "outputs": [],
   "source": [
    "apple_data['rolling']=apple_data['Open'].rolling(90).mean()"
   ]
  },
  {
   "cell_type": "code",
   "execution_count": 405,
   "id": "8c2835fd-5d1f-4a09-b2a5-9ec471ffc162",
   "metadata": {},
   "outputs": [
    {
     "data": {
      "text/plain": [
       "<AxesSubplot:xlabel='Date'>"
      ]
     },
     "execution_count": 405,
     "metadata": {},
     "output_type": "execute_result"
    },
    {
     "data": {
      "image/png": "[encoded data removed]",
      "text/plain": [
       "<Figure size 432x288 with 1 Axes>"
      ]
     },
     "metadata": {
      "needs_background": "light"
     },
     "output_type": "display_data"
    }
   ],
   "source": [
    "apple_data[['rolling','Open']].plot()"
   ]
  },
  {
   "cell_type": "code",
   "execution_count": 406,
   "id": "92c1b02a-f1a3-4d5b-83d1-4155da6eea90",
   "metadata": {},
   "outputs": [],
   "source": [
    "#upward trend-\\n\", \"#downward trend \\n\", \"#cyclic trend \\n\",\"#cyclic data\"\n"
   ]
  },
  {
   "cell_type": "code",
   "execution_count": 407,
   "id": "9c7cf11d-aca4-4a40-a0aa-0a8cc5f73f5e",
   "metadata": {},
   "outputs": [
    {
     "name": "stdout",
     "output_type": "stream",
     "text": [
      "198.22999572753906\n"
     ]
    },
    {
     "data": {
      "text/plain": [
       "Timestamp('2023-07-19 00:00:00')"
      ]
     },
     "execution_count": 407,
     "metadata": {},
     "output_type": "execute_result"
    }
   ],
   "source": [
    "print(apple_data['High'].max())\n",
    "apple_data['High'].idxmax()\n",
    "# The reason for stock going high can be due to the news Apple tests generative AI tools to rival OpenAI's ChatGPT"
   ]
  },
  {
   "cell_type": "code",
   "execution_count": 408,
   "id": "6ef35fdb-cdb6-48f6-995f-7d718232d617",
   "metadata": {},
   "outputs": [
    {
     "name": "stdout",
     "output_type": "stream",
     "text": [
      "53.15250015258789\n"
     ]
    },
    {
     "data": {
      "text/plain": [
       "Timestamp('2020-03-23 00:00:00')"
      ]
     },
     "execution_count": 408,
     "metadata": {},
     "output_type": "execute_result"
    }
   ],
   "source": [
    "print(apple_data['Low'].min())\n",
    "apple_data['Low'].idxmin()\n",
    "#COVID 19 Lockdown "
   ]
  },
  {
   "cell_type": "code",
   "execution_count": 409,
   "id": "024c26f7-c177-497a-bd89-6d37d2f29757",
   "metadata": {},
   "outputs": [],
   "source": [
    "#In the window size we are trying to calculate the moving averages of a stock \""
   ]
  },
  {
   "cell_type": "code",
   "execution_count": 410,
   "id": "f78ba50e-9bec-499c-a76c-3872cb8392cf",
   "metadata": {},
   "outputs": [],
   "source": [
    "#simple moving average disadvantage as not weighted provided "
   ]
  },
  {
   "cell_type": "code",
   "execution_count": 411,
   "id": "3226037a-91ba-4314-b29d-11b375038f32",
   "metadata": {},
   "outputs": [],
   "source": [
    "#Cumulative moving average takes average of every value and includes it in number of observations "
   ]
  },
  {
   "cell_type": "code",
   "execution_count": 412,
   "id": "7e85bfe0-6499-488d-836c-0eadf0a8e334",
   "metadata": {},
   "outputs": [
    {
     "data": {
      "text/plain": [
       "<AxesSubplot:xlabel='Date'>"
      ]
     },
     "execution_count": 412,
     "metadata": {},
     "output_type": "execute_result"
    },
    {
     "data": {
      "image/png": "[encoded data removed]",
      "text/plain": [
       "<Figure size 432x288 with 1 Axes>"
      ]
     },
     "metadata": {
      "needs_background": "light"
     },
     "output_type": "display_data"
    }
   ],
   "source": [
    "apple_data['Open'].expanding().mean().plot()"
   ]
  },
  {
   "cell_type": "code",
   "execution_count": 413,
   "id": "06f3453e-fab6-4320-b15d-ec1fbcfa12fb",
   "metadata": {},
   "outputs": [],
   "source": [
    "#exponential moving average gives a specific weight a to previous time stamp and (1-a) EMWA OF the previous one\n",
    "apple_data['EMWA']=apple_data['Open'].ewm(alpha=0.1,adjust=False).mean()"
   ]
  },
  {
   "cell_type": "code",
   "execution_count": 414,
   "id": "dc85233c-2136-4453-93c0-fa301d204a4c",
   "metadata": {},
   "outputs": [],
   "source": [
    "apple_data['EMWA3']=apple_data['Open'].ewm(alpha=0.3,adjust=False).mean()# WEIGHT =0.3"
   ]
  },
  {
   "cell_type": "code",
   "execution_count": 415,
   "id": "bb8a9fc7-5d0f-4010-8cbe-a297023def56",
   "metadata": {},
   "outputs": [
    {
     "data": {
      "text/plain": [
       "<AxesSubplot:xlabel='Date'>"
      ]
     },
     "execution_count": 415,
     "metadata": {},
     "output_type": "execute_result"
    },
    {
     "data": {
      "image/png": "[encoded data removed]",
      "text/plain": [
       "<Figure size 432x288 with 1 Axes>"
      ]
     },
     "metadata": {
      "needs_background": "light"
     },
     "output_type": "display_data"
    }
   ],
   "source": [
    "apple_data[['EMWA','Open','EMWA3']].plot()"
   ]
  },
  {
   "cell_type": "code",
   "execution_count": 416,
   "id": "423fcdb1-3e87-42fe-945c-4084f62b4964",
   "metadata": {},
   "outputs": [],
   "source": [
    "#y=beta0+beta1 auto regression using past values to find but how to find the previous values for the following we can \n",
    "#use the partial auto correlation diagram to find using the peak  to choose number of the lags we will plot pacf and check how many are satisfying the boundary "
   ]
  },
  {
   "cell_type": "code",
   "execution_count": 417,
   "id": "0a07f634-58c6-40f1-8b67-78ad51fa3d01",
   "metadata": {},
   "outputs": [],
   "source": [
    "# we will convert the data into stationary for applying time series models by differencing and the no of times it is differenced \n",
    "#can be called as lags and then we will apply adf test to check p value if it lies less than p<0.05 we will proceed further "
   ]
  },
  {
   "cell_type": "code",
   "execution_count": 418,
   "id": "b4e847bc-d4bc-466e-afa0-42f0d303b89f",
   "metadata": {},
   "outputs": [],
   "source": [
    " \n",
    "import statsmodels.api as sms "
   ]
  },
  {
   "cell_type": "code",
   "execution_count": 419,
   "id": "f3313425-4010-439a-9039-921552ac8f70",
   "metadata": {},
   "outputs": [
    {
     "data": {
      "text/plain": [
       "0"
      ]
     },
     "execution_count": 419,
     "metadata": {},
     "output_type": "execute_result"
    }
   ],
   "source": [
    "apple_data['Open'].isna().sum()"
   ]
  },
  {
   "cell_type": "code",
   "execution_count": 420,
   "id": "51964a84-4d80-487d-bcc1-b02e2e024635",
   "metadata": {},
   "outputs": [
    {
     "name": "stdout",
     "output_type": "stream",
     "text": [
      "<class 'pandas.core.frame.DataFrame'>\n",
      "DatetimeIndex: 916 entries, 2020-01-15 to 2023-09-05\n",
      "Data columns (total 9 columns):\n",
      " #   Column     Non-Null Count  Dtype  \n",
      "---  ------     --------------  -----  \n",
      " 0   Open       916 non-null    float64\n",
      " 1   High       916 non-null    float64\n",
      " 2   Low        916 non-null    float64\n",
      " 3   Close      916 non-null    float64\n",
      " 4   Adj Close  916 non-null    float64\n",
      " 5   Volume     916 non-null    int64  \n",
      " 6   rolling    827 non-null    float64\n",
      " 7   EMWA       916 non-null    float64\n",
      " 8   EMWA3      916 non-null    float64\n",
      "dtypes: float64(8), int64(1)\n",
      "memory usage: 71.6 KB\n"
     ]
    }
   ],
   "source": [
    "apple_data.info()"
   ]
  },
  {
   "cell_type": "code",
   "execution_count": 421,
   "id": "1acb60b9-bb4c-4259-bd06-f52b30d66f20",
   "metadata": {},
   "outputs": [],
   "source": [
    "apple_data=apple_data.reset_index()"
   ]
  },
  {
   "cell_type": "code",
   "execution_count": 422,
   "id": "393e7f43-645e-45af-ba46-624adb970127",
   "metadata": {},
   "outputs": [],
   "source": [
    "apple_data.set_index('Date',inplace=True)"
   ]
  },
  {
   "cell_type": "code",
   "execution_count": 423,
   "id": "30cd0d1c-46c9-4d98-9d10-514479ea6765",
   "metadata": {},
   "outputs": [
    {
     "data": {
      "text/html": [
       "<div>\n",
       "<style scoped>\n",
       "    .dataframe tbody tr th:only-of-type {\n",
       "        vertical-align: middle;\n",
       "    }\n",
       "\n",
       "    .dataframe tbody tr th {\n",
       "        vertical-align: top;\n",
       "    }\n",
       "\n",
       "    .dataframe thead th {\n",
       "        text-align: right;\n",
       "    }\n",
       "</style>\n",
       "<table border=\"1\" class=\"dataframe\">\n",
       "  <thead>\n",
       "    <tr style=\"text-align: right;\">\n",
       "      <th></th>\n",
       "      <th>Open</th>\n",
       "      <th>High</th>\n",
       "      <th>Low</th>\n",
       "      <th>Close</th>\n",
       "      <th>Adj Close</th>\n",
       "      <th>Volume</th>\n",
       "      <th>rolling</th>\n",
       "      <th>EMWA</th>\n",
       "      <th>EMWA3</th>\n",
       "    </tr>\n",
       "    <tr>\n",
       "      <th>Date</th>\n",
       "      <th></th>\n",
       "      <th></th>\n",
       "      <th></th>\n",
       "      <th></th>\n",
       "      <th></th>\n",
       "      <th></th>\n",
       "      <th></th>\n",
       "      <th></th>\n",
       "      <th></th>\n",
       "    </tr>\n",
       "  </thead>\n",
       "  <tbody>\n",
       "    <tr>\n",
       "      <th>2020-01-15</th>\n",
       "      <td>77.962502</td>\n",
       "      <td>78.875000</td>\n",
       "      <td>77.387497</td>\n",
       "      <td>77.834999</td>\n",
       "      <td>75.929253</td>\n",
       "      <td>121923600</td>\n",
       "      <td>NaN</td>\n",
       "      <td>77.962502</td>\n",
       "      <td>77.962502</td>\n",
       "    </tr>\n",
       "    <tr>\n",
       "      <th>2020-01-16</th>\n",
       "      <td>78.397499</td>\n",
       "      <td>78.925003</td>\n",
       "      <td>78.022499</td>\n",
       "      <td>78.809998</td>\n",
       "      <td>76.880371</td>\n",
       "      <td>108829200</td>\n",
       "      <td>NaN</td>\n",
       "      <td>78.006001</td>\n",
       "      <td>78.093001</td>\n",
       "    </tr>\n",
       "    <tr>\n",
       "      <th>2020-01-17</th>\n",
       "      <td>79.067497</td>\n",
       "      <td>79.684998</td>\n",
       "      <td>78.750000</td>\n",
       "      <td>79.682503</td>\n",
       "      <td>77.731529</td>\n",
       "      <td>137816400</td>\n",
       "      <td>NaN</td>\n",
       "      <td>78.112151</td>\n",
       "      <td>78.385350</td>\n",
       "    </tr>\n",
       "    <tr>\n",
       "      <th>2020-01-21</th>\n",
       "      <td>79.297501</td>\n",
       "      <td>79.754997</td>\n",
       "      <td>79.000000</td>\n",
       "      <td>79.142502</td>\n",
       "      <td>77.204742</td>\n",
       "      <td>110843200</td>\n",
       "      <td>NaN</td>\n",
       "      <td>78.230686</td>\n",
       "      <td>78.658995</td>\n",
       "    </tr>\n",
       "    <tr>\n",
       "      <th>2020-01-22</th>\n",
       "      <td>79.644997</td>\n",
       "      <td>79.997498</td>\n",
       "      <td>79.327499</td>\n",
       "      <td>79.425003</td>\n",
       "      <td>77.480331</td>\n",
       "      <td>101832400</td>\n",
       "      <td>NaN</td>\n",
       "      <td>78.372117</td>\n",
       "      <td>78.954795</td>\n",
       "    </tr>\n",
       "    <tr>\n",
       "      <th>...</th>\n",
       "      <td>...</td>\n",
       "      <td>...</td>\n",
       "      <td>...</td>\n",
       "      <td>...</td>\n",
       "      <td>...</td>\n",
       "      <td>...</td>\n",
       "      <td>...</td>\n",
       "      <td>...</td>\n",
       "      <td>...</td>\n",
       "    </tr>\n",
       "    <tr>\n",
       "      <th>2023-08-29</th>\n",
       "      <td>179.699997</td>\n",
       "      <td>184.899994</td>\n",
       "      <td>179.500000</td>\n",
       "      <td>184.119995</td>\n",
       "      <td>184.119995</td>\n",
       "      <td>53003900</td>\n",
       "      <td>181.048557</td>\n",
       "      <td>180.560550</td>\n",
       "      <td>178.905525</td>\n",
       "    </tr>\n",
       "    <tr>\n",
       "      <th>2023-08-30</th>\n",
       "      <td>184.940002</td>\n",
       "      <td>187.850006</td>\n",
       "      <td>184.740005</td>\n",
       "      <td>187.649994</td>\n",
       "      <td>187.649994</td>\n",
       "      <td>60813900</td>\n",
       "      <td>181.269557</td>\n",
       "      <td>180.998495</td>\n",
       "      <td>180.715868</td>\n",
       "    </tr>\n",
       "    <tr>\n",
       "      <th>2023-08-31</th>\n",
       "      <td>187.839996</td>\n",
       "      <td>189.119995</td>\n",
       "      <td>187.479996</td>\n",
       "      <td>187.869995</td>\n",
       "      <td>187.869995</td>\n",
       "      <td>60794500</td>\n",
       "      <td>181.523334</td>\n",
       "      <td>181.682645</td>\n",
       "      <td>182.853107</td>\n",
       "    </tr>\n",
       "    <tr>\n",
       "      <th>2023-09-01</th>\n",
       "      <td>189.490005</td>\n",
       "      <td>189.919998</td>\n",
       "      <td>188.279999</td>\n",
       "      <td>189.460007</td>\n",
       "      <td>189.460007</td>\n",
       "      <td>45732600</td>\n",
       "      <td>181.793334</td>\n",
       "      <td>182.463381</td>\n",
       "      <td>184.844176</td>\n",
       "    </tr>\n",
       "    <tr>\n",
       "      <th>2023-09-05</th>\n",
       "      <td>188.279999</td>\n",
       "      <td>189.979996</td>\n",
       "      <td>187.610001</td>\n",
       "      <td>189.699997</td>\n",
       "      <td>189.699997</td>\n",
       "      <td>45230700</td>\n",
       "      <td>182.073557</td>\n",
       "      <td>183.045043</td>\n",
       "      <td>185.874923</td>\n",
       "    </tr>\n",
       "  </tbody>\n",
       "</table>\n",
       "<p>916 rows × 9 columns</p>\n",
       "</div>"
      ],
      "text/plain": [
       "                  Open        High         Low       Close   Adj Close  \\\n",
       "Date                                                                     \n",
       "2020-01-15   77.962502   78.875000   77.387497   77.834999   75.929253   \n",
       "2020-01-16   78.397499   78.925003   78.022499   78.809998   76.880371   \n",
       "2020-01-17   79.067497   79.684998   78.750000   79.682503   77.731529   \n",
       "2020-01-21   79.297501   79.754997   79.000000   79.142502   77.204742   \n",
       "2020-01-22   79.644997   79.997498   79.327499   79.425003   77.480331   \n",
       "...                ...         ...         ...         ...         ...   \n",
       "2023-08-29  179.699997  184.899994  179.500000  184.119995  184.119995   \n",
       "2023-08-30  184.940002  187.850006  184.740005  187.649994  187.649994   \n",
       "2023-08-31  187.839996  189.119995  187.479996  187.869995  187.869995   \n",
       "2023-09-01  189.490005  189.919998  188.279999  189.460007  189.460007   \n",
       "2023-09-05  188.279999  189.979996  187.610001  189.699997  189.699997   \n",
       "\n",
       "               Volume     rolling        EMWA       EMWA3  \n",
       "Date                                                       \n",
       "2020-01-15  121923600         NaN   77.962502   77.962502  \n",
       "2020-01-16  108829200         NaN   78.006001   78.093001  \n",
       "2020-01-17  137816400         NaN   78.112151   78.385350  \n",
       "2020-01-21  110843200         NaN   78.230686   78.658995  \n",
       "2020-01-22  101832400         NaN   78.372117   78.954795  \n",
       "...               ...         ...         ...         ...  \n",
       "2023-08-29   53003900  181.048557  180.560550  178.905525  \n",
       "2023-08-30   60813900  181.269557  180.998495  180.715868  \n",
       "2023-08-31   60794500  181.523334  181.682645  182.853107  \n",
       "2023-09-01   45732600  181.793334  182.463381  184.844176  \n",
       "2023-09-05   45230700  182.073557  183.045043  185.874923  \n",
       "\n",
       "[916 rows x 9 columns]"
      ]
     },
     "execution_count": 423,
     "metadata": {},
     "output_type": "execute_result"
    }
   ],
   "source": [
    "apple_data"
   ]
  },
  {
   "cell_type": "code",
   "execution_count": 424,
   "id": "21c92ca0-0c72-4f8a-9345-777469afa65d",
   "metadata": {},
   "outputs": [
    {
     "name": "stdout",
     "output_type": "stream",
     "text": [
      "The p value is 0.5628240478699709\n"
     ]
    }
   ],
   "source": [
    "from statsmodels.tsa.stattools import adfuller\n",
    "\n",
    "#perform augmented Dickey-Fuller test\n",
    "p_value=adfuller(apple_data['Open'])[1]\n",
    "print(f'The p value is {p_value}')"
   ]
  },
  {
   "cell_type": "code",
   "execution_count": 425,
   "id": "e0e52015-3252-431a-9dae-cd7b21759c31",
   "metadata": {},
   "outputs": [],
   "source": [
    "apple_data['open_first_difference']=apple_data['Open']-apple_data['Open'].shift(1)# We took a  difference"
   ]
  },
  {
   "cell_type": "code",
   "execution_count": 568,
   "id": "72b7f31b-a5b5-4c42-a9ba-37f7ad14fec8",
   "metadata": {},
   "outputs": [],
   "source": [
    "apple_data['open_seasonal_difference']=apple_data['Open']-apple_data['Open'].shift(12)# We took a  difference"
   ]
  },
  {
   "cell_type": "code",
   "execution_count": 569,
   "id": "78b1c560-4eb4-4d94-b218-458b18c67737",
   "metadata": {},
   "outputs": [
    {
     "name": "stdout",
     "output_type": "stream",
     "text": [
      "The p value is 2.2009609838727534e-21\n"
     ]
    }
   ],
   "source": [
    "from statsmodels.tsa.stattools import adfuller\n",
    "\n",
    "p_value = adfuller(apple_data['open_second_difference'].dropna())[1]\n",
    "print(f'The p value is {p_value}')# p-value 0 makes it a stationary data "
   ]
  },
  {
   "cell_type": "code",
   "execution_count": 505,
   "id": "ef3df450-fa4c-4d29-b17e-494ab615d1dd",
   "metadata": {},
   "outputs": [],
   "source": [
    "apple_data['open_second_difference']=apple_data['open_first_difference']-apple_data['open_first_difference'].shift(1)# We took a  difference"
   ]
  },
  {
   "cell_type": "code",
   "execution_count": 506,
   "id": "af39233c-9c24-40d6-b378-e45064261fc6",
   "metadata": {},
   "outputs": [
    {
     "name": "stdout",
     "output_type": "stream",
     "text": [
      "The p value is 2.2009609838727534e-21\n"
     ]
    }
   ],
   "source": [
    "from statsmodels.tsa.stattools import adfuller\n",
    "\n",
    "p_value = adfuller(apple_data['open_second_difference'].dropna())[1]\n",
    "print(f'The p value is {p_value}')# p-value 0 makes it a stationary data "
   ]
  },
  {
   "cell_type": "code",
   "execution_count": 507,
   "id": "604bb159-8ed7-43ce-b806-f6b0439ad249",
   "metadata": {},
   "outputs": [
    {
     "name": "stdout",
     "output_type": "stream",
     "text": [
      "The p value is 0.0\n"
     ]
    }
   ],
   "source": [
    "from statsmodels.tsa.stattools import adfuller\n",
    "\n",
    "p_value = adfuller(apple_data['open_first_difference'].dropna())[1]\n",
    "print(f'The p value is {p_value}')# p-value 0 makes it a stationary data "
   ]
  },
  {
   "cell_type": "code",
   "execution_count": 508,
   "id": "a017735c-06a8-4532-a319-5c3556b472a2",
   "metadata": {},
   "outputs": [],
   "source": [
    "from statsmodels.graphics.tsaplots import plot_acf,plot_pacf "
   ]
  },
  {
   "cell_type": "code",
   "execution_count": 509,
   "id": "c42410c1-9b24-4bb1-884a-d9f01e22b3ee",
   "metadata": {},
   "outputs": [
    {
     "data": {
      "image/png": "[encoded data removed]",
      "text/plain": [
       "<Figure size 432x288 with 1 Axes>"
      ]
     },
     "metadata": {
      "needs_background": "light"
     },
     "output_type": "display_data"
    }
   ],
   "source": [
    "acf=plot_acf(apple_data['open_second_difference'].dropna())# q value should be 1 12 or 16"
   ]
  },
  {
   "cell_type": "code",
   "execution_count": 510,
   "id": "29b6536d-1750-4a00-ab80-564ca903fbca",
   "metadata": {},
   "outputs": [
    {
     "name": "stderr",
     "output_type": "stream",
     "text": [
      "C:\\Users\\HP\\anaconda3\\lib\\site-packages\\statsmodels\\graphics\\tsaplots.py:348: FutureWarning: The default method 'yw' can produce PACF values outside of the [-1,1] interval. After 0.13, the default will change tounadjusted Yule-Walker ('ywm'). You can use this method now by setting method='ywm'.\n",
      "  warnings.warn(\n"
     ]
    },
    {
     "data": {
      "image/png": "[encoded data removed]",
      "text/plain": [
       "<Figure size 432x288 with 1 Axes>"
      ]
     },
     "metadata": {
      "needs_background": "light"
     },
     "output_type": "display_data"
    }
   ],
   "source": [
    "pacf=plot_pacf(apple_data['open_second_difference'].dropna())# p value should be 1 or 2 or 3 |"
   ]
  },
  {
   "cell_type": "code",
   "execution_count": 570,
   "id": "6c1fbac0-69e2-4045-b469-88fa56716da6",
   "metadata": {},
   "outputs": [
    {
     "data": {
      "image/png": "[encoded data removed]",
      "text/plain": [
       "<Figure size 432x288 with 1 Axes>"
      ]
     },
     "metadata": {
      "needs_background": "light"
     },
     "output_type": "display_data"
    }
   ],
   "source": [
    "acf=plot_acf(apple_data['open_seasonal_difference'].dropna())# q value should be 1 12 or 16"
   ]
  },
  {
   "cell_type": "code",
   "execution_count": 571,
   "id": "3d7b6554-905f-43b0-a777-07464703f2a3",
   "metadata": {},
   "outputs": [
    {
     "name": "stderr",
     "output_type": "stream",
     "text": [
      "C:\\Users\\HP\\anaconda3\\lib\\site-packages\\statsmodels\\graphics\\tsaplots.py:348: FutureWarning: The default method 'yw' can produce PACF values outside of the [-1,1] interval. After 0.13, the default will change tounadjusted Yule-Walker ('ywm'). You can use this method now by setting method='ywm'.\n",
      "  warnings.warn(\n"
     ]
    },
    {
     "data": {
      "image/png": "[encoded data removed]",
      "text/plain": [
       "<Figure size 432x288 with 1 Axes>"
      ]
     },
     "metadata": {
      "needs_background": "light"
     },
     "output_type": "display_data"
    }
   ],
   "source": [
    "pacf=plot_pacf(apple_data['open_seasonal_difference'].dropna())# p value should be 1 or 2 or 3 |"
   ]
  },
  {
   "cell_type": "code",
   "execution_count": 511,
   "id": "280039ca-4e7c-4726-b473-8b2aa3967d3f",
   "metadata": {},
   "outputs": [],
   "source": [
    "from datetime import datetime,timedelta\n",
    "train_data_end=datetime(2022,12,31)\n",
    "test_data_end=datetime(2023,9,5)"
   ]
  },
  {
   "cell_type": "code",
   "execution_count": 512,
   "id": "62e523b9-b7bf-410f-8c61-1e886ea16718",
   "metadata": {},
   "outputs": [],
   "source": [
    "train_data=apple_data[:train_data_end]\n",
    "test_data=apple_data[train_data_end:test_data_end]"
   ]
  },
  {
   "cell_type": "code",
   "execution_count": 513,
   "id": "a86b7fcd-b1a7-4d5f-9fdd-5a0f452c458c",
   "metadata": {},
   "outputs": [
    {
     "data": {
      "text/html": [
       "<div>\n",
       "<style scoped>\n",
       "    .dataframe tbody tr th:only-of-type {\n",
       "        vertical-align: middle;\n",
       "    }\n",
       "\n",
       "    .dataframe tbody tr th {\n",
       "        vertical-align: top;\n",
       "    }\n",
       "\n",
       "    .dataframe thead th {\n",
       "        text-align: right;\n",
       "    }\n",
       "</style>\n",
       "<table border=\"1\" class=\"dataframe\">\n",
       "  <thead>\n",
       "    <tr style=\"text-align: right;\">\n",
       "      <th></th>\n",
       "      <th>Open</th>\n",
       "      <th>High</th>\n",
       "      <th>Low</th>\n",
       "      <th>Close</th>\n",
       "      <th>Adj Close</th>\n",
       "      <th>Volume</th>\n",
       "      <th>rolling</th>\n",
       "      <th>EMWA</th>\n",
       "      <th>EMWA3</th>\n",
       "      <th>open_first_difference</th>\n",
       "      <th>open_second_difference</th>\n",
       "    </tr>\n",
       "    <tr>\n",
       "      <th>Date</th>\n",
       "      <th></th>\n",
       "      <th></th>\n",
       "      <th></th>\n",
       "      <th></th>\n",
       "      <th></th>\n",
       "      <th></th>\n",
       "      <th></th>\n",
       "      <th></th>\n",
       "      <th></th>\n",
       "      <th></th>\n",
       "      <th></th>\n",
       "    </tr>\n",
       "  </thead>\n",
       "  <tbody>\n",
       "    <tr>\n",
       "      <th>2020-01-15</th>\n",
       "      <td>77.962502</td>\n",
       "      <td>78.875000</td>\n",
       "      <td>77.387497</td>\n",
       "      <td>77.834999</td>\n",
       "      <td>75.929253</td>\n",
       "      <td>121923600</td>\n",
       "      <td>NaN</td>\n",
       "      <td>77.962502</td>\n",
       "      <td>77.962502</td>\n",
       "      <td>NaN</td>\n",
       "      <td>NaN</td>\n",
       "    </tr>\n",
       "    <tr>\n",
       "      <th>2020-01-16</th>\n",
       "      <td>78.397499</td>\n",
       "      <td>78.925003</td>\n",
       "      <td>78.022499</td>\n",
       "      <td>78.809998</td>\n",
       "      <td>76.880371</td>\n",
       "      <td>108829200</td>\n",
       "      <td>NaN</td>\n",
       "      <td>78.006001</td>\n",
       "      <td>78.093001</td>\n",
       "      <td>0.434998</td>\n",
       "      <td>NaN</td>\n",
       "    </tr>\n",
       "    <tr>\n",
       "      <th>2020-01-17</th>\n",
       "      <td>79.067497</td>\n",
       "      <td>79.684998</td>\n",
       "      <td>78.750000</td>\n",
       "      <td>79.682503</td>\n",
       "      <td>77.731529</td>\n",
       "      <td>137816400</td>\n",
       "      <td>NaN</td>\n",
       "      <td>78.112151</td>\n",
       "      <td>78.385350</td>\n",
       "      <td>0.669998</td>\n",
       "      <td>0.235001</td>\n",
       "    </tr>\n",
       "    <tr>\n",
       "      <th>2020-01-21</th>\n",
       "      <td>79.297501</td>\n",
       "      <td>79.754997</td>\n",
       "      <td>79.000000</td>\n",
       "      <td>79.142502</td>\n",
       "      <td>77.204742</td>\n",
       "      <td>110843200</td>\n",
       "      <td>NaN</td>\n",
       "      <td>78.230686</td>\n",
       "      <td>78.658995</td>\n",
       "      <td>0.230003</td>\n",
       "      <td>-0.439995</td>\n",
       "    </tr>\n",
       "    <tr>\n",
       "      <th>2020-01-22</th>\n",
       "      <td>79.644997</td>\n",
       "      <td>79.997498</td>\n",
       "      <td>79.327499</td>\n",
       "      <td>79.425003</td>\n",
       "      <td>77.480331</td>\n",
       "      <td>101832400</td>\n",
       "      <td>NaN</td>\n",
       "      <td>78.372117</td>\n",
       "      <td>78.954795</td>\n",
       "      <td>0.347496</td>\n",
       "      <td>0.117493</td>\n",
       "    </tr>\n",
       "    <tr>\n",
       "      <th>...</th>\n",
       "      <td>...</td>\n",
       "      <td>...</td>\n",
       "      <td>...</td>\n",
       "      <td>...</td>\n",
       "      <td>...</td>\n",
       "      <td>...</td>\n",
       "      <td>...</td>\n",
       "      <td>...</td>\n",
       "      <td>...</td>\n",
       "      <td>...</td>\n",
       "      <td>...</td>\n",
       "    </tr>\n",
       "    <tr>\n",
       "      <th>2022-12-23</th>\n",
       "      <td>130.919998</td>\n",
       "      <td>132.419998</td>\n",
       "      <td>129.639999</td>\n",
       "      <td>131.860001</td>\n",
       "      <td>131.299820</td>\n",
       "      <td>63814900</td>\n",
       "      <td>148.691112</td>\n",
       "      <td>139.607597</td>\n",
       "      <td>134.128631</td>\n",
       "      <td>-3.430008</td>\n",
       "      <td>-4.800018</td>\n",
       "    </tr>\n",
       "    <tr>\n",
       "      <th>2022-12-27</th>\n",
       "      <td>131.380005</td>\n",
       "      <td>131.410004</td>\n",
       "      <td>128.720001</td>\n",
       "      <td>130.029999</td>\n",
       "      <td>129.477585</td>\n",
       "      <td>69007800</td>\n",
       "      <td>148.220334</td>\n",
       "      <td>138.784838</td>\n",
       "      <td>133.304043</td>\n",
       "      <td>0.460007</td>\n",
       "      <td>3.890015</td>\n",
       "    </tr>\n",
       "    <tr>\n",
       "      <th>2022-12-28</th>\n",
       "      <td>129.669998</td>\n",
       "      <td>131.029999</td>\n",
       "      <td>125.870003</td>\n",
       "      <td>126.040001</td>\n",
       "      <td>125.504539</td>\n",
       "      <td>85438400</td>\n",
       "      <td>147.738556</td>\n",
       "      <td>137.873354</td>\n",
       "      <td>132.213830</td>\n",
       "      <td>-1.710007</td>\n",
       "      <td>-2.170013</td>\n",
       "    </tr>\n",
       "    <tr>\n",
       "      <th>2022-12-29</th>\n",
       "      <td>127.989998</td>\n",
       "      <td>130.479996</td>\n",
       "      <td>127.730003</td>\n",
       "      <td>129.610001</td>\n",
       "      <td>129.059372</td>\n",
       "      <td>75703700</td>\n",
       "      <td>147.275223</td>\n",
       "      <td>136.885018</td>\n",
       "      <td>130.946680</td>\n",
       "      <td>-1.680000</td>\n",
       "      <td>0.030006</td>\n",
       "    </tr>\n",
       "    <tr>\n",
       "      <th>2022-12-30</th>\n",
       "      <td>128.410004</td>\n",
       "      <td>129.949997</td>\n",
       "      <td>127.430000</td>\n",
       "      <td>129.929993</td>\n",
       "      <td>129.378006</td>\n",
       "      <td>77034200</td>\n",
       "      <td>146.845556</td>\n",
       "      <td>136.037517</td>\n",
       "      <td>130.185677</td>\n",
       "      <td>0.420006</td>\n",
       "      <td>2.100006</td>\n",
       "    </tr>\n",
       "  </tbody>\n",
       "</table>\n",
       "<p>747 rows × 11 columns</p>\n",
       "</div>"
      ],
      "text/plain": [
       "                  Open        High         Low       Close   Adj Close  \\\n",
       "Date                                                                     \n",
       "2020-01-15   77.962502   78.875000   77.387497   77.834999   75.929253   \n",
       "2020-01-16   78.397499   78.925003   78.022499   78.809998   76.880371   \n",
       "2020-01-17   79.067497   79.684998   78.750000   79.682503   77.731529   \n",
       "2020-01-21   79.297501   79.754997   79.000000   79.142502   77.204742   \n",
       "2020-01-22   79.644997   79.997498   79.327499   79.425003   77.480331   \n",
       "...                ...         ...         ...         ...         ...   \n",
       "2022-12-23  130.919998  132.419998  129.639999  131.860001  131.299820   \n",
       "2022-12-27  131.380005  131.410004  128.720001  130.029999  129.477585   \n",
       "2022-12-28  129.669998  131.029999  125.870003  126.040001  125.504539   \n",
       "2022-12-29  127.989998  130.479996  127.730003  129.610001  129.059372   \n",
       "2022-12-30  128.410004  129.949997  127.430000  129.929993  129.378006   \n",
       "\n",
       "               Volume     rolling        EMWA       EMWA3  \\\n",
       "Date                                                        \n",
       "2020-01-15  121923600         NaN   77.962502   77.962502   \n",
       "2020-01-16  108829200         NaN   78.006001   78.093001   \n",
       "2020-01-17  137816400         NaN   78.112151   78.385350   \n",
       "2020-01-21  110843200         NaN   78.230686   78.658995   \n",
       "2020-01-22  101832400         NaN   78.372117   78.954795   \n",
       "...               ...         ...         ...         ...   \n",
       "2022-12-23   63814900  148.691112  139.607597  134.128631   \n",
       "2022-12-27   69007800  148.220334  138.784838  133.304043   \n",
       "2022-12-28   85438400  147.738556  137.873354  132.213830   \n",
       "2022-12-29   75703700  147.275223  136.885018  130.946680   \n",
       "2022-12-30   77034200  146.845556  136.037517  130.185677   \n",
       "\n",
       "            open_first_difference  open_second_difference  \n",
       "Date                                                       \n",
       "2020-01-15                    NaN                     NaN  \n",
       "2020-01-16               0.434998                     NaN  \n",
       "2020-01-17               0.669998                0.235001  \n",
       "2020-01-21               0.230003               -0.439995  \n",
       "2020-01-22               0.347496                0.117493  \n",
       "...                           ...                     ...  \n",
       "2022-12-23              -3.430008               -4.800018  \n",
       "2022-12-27               0.460007                3.890015  \n",
       "2022-12-28              -1.710007               -2.170013  \n",
       "2022-12-29              -1.680000                0.030006  \n",
       "2022-12-30               0.420006                2.100006  \n",
       "\n",
       "[747 rows x 11 columns]"
      ]
     },
     "execution_count": 513,
     "metadata": {},
     "output_type": "execute_result"
    }
   ],
   "source": [
    "train_data"
   ]
  },
  {
   "cell_type": "code",
   "execution_count": 514,
   "id": "193ebc9e-8a23-465a-ac6b-109caceb0135",
   "metadata": {},
   "outputs": [],
   "source": [
    "pred_start_date=test_data.index[0]\n",
    "pred_end_date=test_data.index[-1]"
   ]
  },
  {
   "cell_type": "code",
   "execution_count": 515,
   "id": "6c550b60-d81d-499a-8c9c-9e7c8afe022d",
   "metadata": {},
   "outputs": [
    {
     "data": {
      "text/html": [
       "<div>\n",
       "<style scoped>\n",
       "    .dataframe tbody tr th:only-of-type {\n",
       "        vertical-align: middle;\n",
       "    }\n",
       "\n",
       "    .dataframe tbody tr th {\n",
       "        vertical-align: top;\n",
       "    }\n",
       "\n",
       "    .dataframe thead th {\n",
       "        text-align: right;\n",
       "    }\n",
       "</style>\n",
       "<table border=\"1\" class=\"dataframe\">\n",
       "  <thead>\n",
       "    <tr style=\"text-align: right;\">\n",
       "      <th></th>\n",
       "      <th>Open</th>\n",
       "      <th>High</th>\n",
       "      <th>Low</th>\n",
       "      <th>Close</th>\n",
       "      <th>Adj Close</th>\n",
       "      <th>Volume</th>\n",
       "      <th>rolling</th>\n",
       "      <th>EMWA</th>\n",
       "      <th>EMWA3</th>\n",
       "      <th>open_first_difference</th>\n",
       "      <th>open_second_difference</th>\n",
       "    </tr>\n",
       "    <tr>\n",
       "      <th>Date</th>\n",
       "      <th></th>\n",
       "      <th></th>\n",
       "      <th></th>\n",
       "      <th></th>\n",
       "      <th></th>\n",
       "      <th></th>\n",
       "      <th></th>\n",
       "      <th></th>\n",
       "      <th></th>\n",
       "      <th></th>\n",
       "      <th></th>\n",
       "    </tr>\n",
       "  </thead>\n",
       "  <tbody>\n",
       "    <tr>\n",
       "      <th>2023-01-03</th>\n",
       "      <td>130.279999</td>\n",
       "      <td>130.899994</td>\n",
       "      <td>124.169998</td>\n",
       "      <td>125.070000</td>\n",
       "      <td>124.538658</td>\n",
       "      <td>112117500</td>\n",
       "      <td>146.434001</td>\n",
       "      <td>135.461765</td>\n",
       "      <td>130.213974</td>\n",
       "      <td>1.869995</td>\n",
       "      <td>1.449989</td>\n",
       "    </tr>\n",
       "    <tr>\n",
       "      <th>2023-01-04</th>\n",
       "      <td>126.889999</td>\n",
       "      <td>128.660004</td>\n",
       "      <td>125.080002</td>\n",
       "      <td>126.360001</td>\n",
       "      <td>125.823189</td>\n",
       "      <td>89113600</td>\n",
       "      <td>145.968556</td>\n",
       "      <td>134.604589</td>\n",
       "      <td>129.216781</td>\n",
       "      <td>-3.389999</td>\n",
       "      <td>-5.259995</td>\n",
       "    </tr>\n",
       "    <tr>\n",
       "      <th>2023-01-05</th>\n",
       "      <td>127.129997</td>\n",
       "      <td>127.769997</td>\n",
       "      <td>124.760002</td>\n",
       "      <td>125.019997</td>\n",
       "      <td>124.488876</td>\n",
       "      <td>80962700</td>\n",
       "      <td>145.485890</td>\n",
       "      <td>133.857129</td>\n",
       "      <td>128.590746</td>\n",
       "      <td>0.239998</td>\n",
       "      <td>3.629997</td>\n",
       "    </tr>\n",
       "    <tr>\n",
       "      <th>2023-01-06</th>\n",
       "      <td>126.010002</td>\n",
       "      <td>130.289993</td>\n",
       "      <td>124.889999</td>\n",
       "      <td>129.619995</td>\n",
       "      <td>129.069321</td>\n",
       "      <td>87754700</td>\n",
       "      <td>145.095445</td>\n",
       "      <td>133.072417</td>\n",
       "      <td>127.816523</td>\n",
       "      <td>-1.119995</td>\n",
       "      <td>-1.359993</td>\n",
       "    </tr>\n",
       "    <tr>\n",
       "      <th>2023-01-09</th>\n",
       "      <td>130.470001</td>\n",
       "      <td>133.410004</td>\n",
       "      <td>129.889999</td>\n",
       "      <td>130.149994</td>\n",
       "      <td>129.597061</td>\n",
       "      <td>70790800</td>\n",
       "      <td>144.743667</td>\n",
       "      <td>132.812175</td>\n",
       "      <td>128.612566</td>\n",
       "      <td>4.459999</td>\n",
       "      <td>5.579994</td>\n",
       "    </tr>\n",
       "    <tr>\n",
       "      <th>...</th>\n",
       "      <td>...</td>\n",
       "      <td>...</td>\n",
       "      <td>...</td>\n",
       "      <td>...</td>\n",
       "      <td>...</td>\n",
       "      <td>...</td>\n",
       "      <td>...</td>\n",
       "      <td>...</td>\n",
       "      <td>...</td>\n",
       "      <td>...</td>\n",
       "      <td>...</td>\n",
       "    </tr>\n",
       "    <tr>\n",
       "      <th>2023-08-29</th>\n",
       "      <td>179.699997</td>\n",
       "      <td>184.899994</td>\n",
       "      <td>179.500000</td>\n",
       "      <td>184.119995</td>\n",
       "      <td>184.119995</td>\n",
       "      <td>53003900</td>\n",
       "      <td>181.048557</td>\n",
       "      <td>180.560550</td>\n",
       "      <td>178.905525</td>\n",
       "      <td>-0.389999</td>\n",
       "      <td>-3.099991</td>\n",
       "    </tr>\n",
       "    <tr>\n",
       "      <th>2023-08-30</th>\n",
       "      <td>184.940002</td>\n",
       "      <td>187.850006</td>\n",
       "      <td>184.740005</td>\n",
       "      <td>187.649994</td>\n",
       "      <td>187.649994</td>\n",
       "      <td>60813900</td>\n",
       "      <td>181.269557</td>\n",
       "      <td>180.998495</td>\n",
       "      <td>180.715868</td>\n",
       "      <td>5.240005</td>\n",
       "      <td>5.630005</td>\n",
       "    </tr>\n",
       "    <tr>\n",
       "      <th>2023-08-31</th>\n",
       "      <td>187.839996</td>\n",
       "      <td>189.119995</td>\n",
       "      <td>187.479996</td>\n",
       "      <td>187.869995</td>\n",
       "      <td>187.869995</td>\n",
       "      <td>60794500</td>\n",
       "      <td>181.523334</td>\n",
       "      <td>181.682645</td>\n",
       "      <td>182.853107</td>\n",
       "      <td>2.899994</td>\n",
       "      <td>-2.340012</td>\n",
       "    </tr>\n",
       "    <tr>\n",
       "      <th>2023-09-01</th>\n",
       "      <td>189.490005</td>\n",
       "      <td>189.919998</td>\n",
       "      <td>188.279999</td>\n",
       "      <td>189.460007</td>\n",
       "      <td>189.460007</td>\n",
       "      <td>45732600</td>\n",
       "      <td>181.793334</td>\n",
       "      <td>182.463381</td>\n",
       "      <td>184.844176</td>\n",
       "      <td>1.650009</td>\n",
       "      <td>-1.249985</td>\n",
       "    </tr>\n",
       "    <tr>\n",
       "      <th>2023-09-05</th>\n",
       "      <td>188.279999</td>\n",
       "      <td>189.979996</td>\n",
       "      <td>187.610001</td>\n",
       "      <td>189.699997</td>\n",
       "      <td>189.699997</td>\n",
       "      <td>45230700</td>\n",
       "      <td>182.073557</td>\n",
       "      <td>183.045043</td>\n",
       "      <td>185.874923</td>\n",
       "      <td>-1.210007</td>\n",
       "      <td>-2.860016</td>\n",
       "    </tr>\n",
       "  </tbody>\n",
       "</table>\n",
       "<p>169 rows × 11 columns</p>\n",
       "</div>"
      ],
      "text/plain": [
       "                  Open        High         Low       Close   Adj Close  \\\n",
       "Date                                                                     \n",
       "2023-01-03  130.279999  130.899994  124.169998  125.070000  124.538658   \n",
       "2023-01-04  126.889999  128.660004  125.080002  126.360001  125.823189   \n",
       "2023-01-05  127.129997  127.769997  124.760002  125.019997  124.488876   \n",
       "2023-01-06  126.010002  130.289993  124.889999  129.619995  129.069321   \n",
       "2023-01-09  130.470001  133.410004  129.889999  130.149994  129.597061   \n",
       "...                ...         ...         ...         ...         ...   \n",
       "2023-08-29  179.699997  184.899994  179.500000  184.119995  184.119995   \n",
       "2023-08-30  184.940002  187.850006  184.740005  187.649994  187.649994   \n",
       "2023-08-31  187.839996  189.119995  187.479996  187.869995  187.869995   \n",
       "2023-09-01  189.490005  189.919998  188.279999  189.460007  189.460007   \n",
       "2023-09-05  188.279999  189.979996  187.610001  189.699997  189.699997   \n",
       "\n",
       "               Volume     rolling        EMWA       EMWA3  \\\n",
       "Date                                                        \n",
       "2023-01-03  112117500  146.434001  135.461765  130.213974   \n",
       "2023-01-04   89113600  145.968556  134.604589  129.216781   \n",
       "2023-01-05   80962700  145.485890  133.857129  128.590746   \n",
       "2023-01-06   87754700  145.095445  133.072417  127.816523   \n",
       "2023-01-09   70790800  144.743667  132.812175  128.612566   \n",
       "...               ...         ...         ...         ...   \n",
       "2023-08-29   53003900  181.048557  180.560550  178.905525   \n",
       "2023-08-30   60813900  181.269557  180.998495  180.715868   \n",
       "2023-08-31   60794500  181.523334  181.682645  182.853107   \n",
       "2023-09-01   45732600  181.793334  182.463381  184.844176   \n",
       "2023-09-05   45230700  182.073557  183.045043  185.874923   \n",
       "\n",
       "            open_first_difference  open_second_difference  \n",
       "Date                                                       \n",
       "2023-01-03               1.869995                1.449989  \n",
       "2023-01-04              -3.389999               -5.259995  \n",
       "2023-01-05               0.239998                3.629997  \n",
       "2023-01-06              -1.119995               -1.359993  \n",
       "2023-01-09               4.459999                5.579994  \n",
       "...                           ...                     ...  \n",
       "2023-08-29              -0.389999               -3.099991  \n",
       "2023-08-30               5.240005                5.630005  \n",
       "2023-08-31               2.899994               -2.340012  \n",
       "2023-09-01               1.650009               -1.249985  \n",
       "2023-09-05              -1.210007               -2.860016  \n",
       "\n",
       "[169 rows x 11 columns]"
      ]
     },
     "execution_count": 515,
     "metadata": {},
     "output_type": "execute_result"
    }
   ],
   "source": [
    "test_data.head(234)"
   ]
  },
  {
   "cell_type": "code",
   "execution_count": 567,
   "id": "14aa0b93-a7ac-4390-bb7a-b171fdc39957",
   "metadata": {},
   "outputs": [],
   "source": [
    "from statsmodels.tsa.arima.model import ARIMA\n",
    "from statsmodels.tsa.statespace.sarimax import SARIMAX"
   ]
  },
  {
   "cell_type": "code",
   "execution_count": 517,
   "id": "cd9615c3-e294-4dc6-a985-556cec7182a0",
   "metadata": {},
   "outputs": [
    {
     "data": {
      "text/html": [
       "<div>\n",
       "<style scoped>\n",
       "    .dataframe tbody tr th:only-of-type {\n",
       "        vertical-align: middle;\n",
       "    }\n",
       "\n",
       "    .dataframe tbody tr th {\n",
       "        vertical-align: top;\n",
       "    }\n",
       "\n",
       "    .dataframe thead th {\n",
       "        text-align: right;\n",
       "    }\n",
       "</style>\n",
       "<table border=\"1\" class=\"dataframe\">\n",
       "  <thead>\n",
       "    <tr style=\"text-align: right;\">\n",
       "      <th></th>\n",
       "      <th>Open</th>\n",
       "      <th>High</th>\n",
       "      <th>Low</th>\n",
       "      <th>Close</th>\n",
       "      <th>Adj Close</th>\n",
       "      <th>Volume</th>\n",
       "      <th>rolling</th>\n",
       "      <th>EMWA</th>\n",
       "      <th>EMWA3</th>\n",
       "      <th>open_first_difference</th>\n",
       "      <th>open_second_difference</th>\n",
       "    </tr>\n",
       "    <tr>\n",
       "      <th>Date</th>\n",
       "      <th></th>\n",
       "      <th></th>\n",
       "      <th></th>\n",
       "      <th></th>\n",
       "      <th></th>\n",
       "      <th></th>\n",
       "      <th></th>\n",
       "      <th></th>\n",
       "      <th></th>\n",
       "      <th></th>\n",
       "      <th></th>\n",
       "    </tr>\n",
       "  </thead>\n",
       "  <tbody>\n",
       "    <tr>\n",
       "      <th>2020-01-15</th>\n",
       "      <td>77.962502</td>\n",
       "      <td>78.875000</td>\n",
       "      <td>77.387497</td>\n",
       "      <td>77.834999</td>\n",
       "      <td>75.929253</td>\n",
       "      <td>121923600</td>\n",
       "      <td>NaN</td>\n",
       "      <td>77.962502</td>\n",
       "      <td>77.962502</td>\n",
       "      <td>NaN</td>\n",
       "      <td>NaN</td>\n",
       "    </tr>\n",
       "    <tr>\n",
       "      <th>2020-01-16</th>\n",
       "      <td>78.397499</td>\n",
       "      <td>78.925003</td>\n",
       "      <td>78.022499</td>\n",
       "      <td>78.809998</td>\n",
       "      <td>76.880371</td>\n",
       "      <td>108829200</td>\n",
       "      <td>NaN</td>\n",
       "      <td>78.006001</td>\n",
       "      <td>78.093001</td>\n",
       "      <td>0.434998</td>\n",
       "      <td>NaN</td>\n",
       "    </tr>\n",
       "    <tr>\n",
       "      <th>2020-01-17</th>\n",
       "      <td>79.067497</td>\n",
       "      <td>79.684998</td>\n",
       "      <td>78.750000</td>\n",
       "      <td>79.682503</td>\n",
       "      <td>77.731529</td>\n",
       "      <td>137816400</td>\n",
       "      <td>NaN</td>\n",
       "      <td>78.112151</td>\n",
       "      <td>78.385350</td>\n",
       "      <td>0.669998</td>\n",
       "      <td>0.235001</td>\n",
       "    </tr>\n",
       "    <tr>\n",
       "      <th>2020-01-21</th>\n",
       "      <td>79.297501</td>\n",
       "      <td>79.754997</td>\n",
       "      <td>79.000000</td>\n",
       "      <td>79.142502</td>\n",
       "      <td>77.204742</td>\n",
       "      <td>110843200</td>\n",
       "      <td>NaN</td>\n",
       "      <td>78.230686</td>\n",
       "      <td>78.658995</td>\n",
       "      <td>0.230003</td>\n",
       "      <td>-0.439995</td>\n",
       "    </tr>\n",
       "    <tr>\n",
       "      <th>2020-01-22</th>\n",
       "      <td>79.644997</td>\n",
       "      <td>79.997498</td>\n",
       "      <td>79.327499</td>\n",
       "      <td>79.425003</td>\n",
       "      <td>77.480331</td>\n",
       "      <td>101832400</td>\n",
       "      <td>NaN</td>\n",
       "      <td>78.372117</td>\n",
       "      <td>78.954795</td>\n",
       "      <td>0.347496</td>\n",
       "      <td>0.117493</td>\n",
       "    </tr>\n",
       "    <tr>\n",
       "      <th>...</th>\n",
       "      <td>...</td>\n",
       "      <td>...</td>\n",
       "      <td>...</td>\n",
       "      <td>...</td>\n",
       "      <td>...</td>\n",
       "      <td>...</td>\n",
       "      <td>...</td>\n",
       "      <td>...</td>\n",
       "      <td>...</td>\n",
       "      <td>...</td>\n",
       "      <td>...</td>\n",
       "    </tr>\n",
       "    <tr>\n",
       "      <th>2022-12-23</th>\n",
       "      <td>130.919998</td>\n",
       "      <td>132.419998</td>\n",
       "      <td>129.639999</td>\n",
       "      <td>131.860001</td>\n",
       "      <td>131.299820</td>\n",
       "      <td>63814900</td>\n",
       "      <td>148.691112</td>\n",
       "      <td>139.607597</td>\n",
       "      <td>134.128631</td>\n",
       "      <td>-3.430008</td>\n",
       "      <td>-4.800018</td>\n",
       "    </tr>\n",
       "    <tr>\n",
       "      <th>2022-12-27</th>\n",
       "      <td>131.380005</td>\n",
       "      <td>131.410004</td>\n",
       "      <td>128.720001</td>\n",
       "      <td>130.029999</td>\n",
       "      <td>129.477585</td>\n",
       "      <td>69007800</td>\n",
       "      <td>148.220334</td>\n",
       "      <td>138.784838</td>\n",
       "      <td>133.304043</td>\n",
       "      <td>0.460007</td>\n",
       "      <td>3.890015</td>\n",
       "    </tr>\n",
       "    <tr>\n",
       "      <th>2022-12-28</th>\n",
       "      <td>129.669998</td>\n",
       "      <td>131.029999</td>\n",
       "      <td>125.870003</td>\n",
       "      <td>126.040001</td>\n",
       "      <td>125.504539</td>\n",
       "      <td>85438400</td>\n",
       "      <td>147.738556</td>\n",
       "      <td>137.873354</td>\n",
       "      <td>132.213830</td>\n",
       "      <td>-1.710007</td>\n",
       "      <td>-2.170013</td>\n",
       "    </tr>\n",
       "    <tr>\n",
       "      <th>2022-12-29</th>\n",
       "      <td>127.989998</td>\n",
       "      <td>130.479996</td>\n",
       "      <td>127.730003</td>\n",
       "      <td>129.610001</td>\n",
       "      <td>129.059372</td>\n",
       "      <td>75703700</td>\n",
       "      <td>147.275223</td>\n",
       "      <td>136.885018</td>\n",
       "      <td>130.946680</td>\n",
       "      <td>-1.680000</td>\n",
       "      <td>0.030006</td>\n",
       "    </tr>\n",
       "    <tr>\n",
       "      <th>2022-12-30</th>\n",
       "      <td>128.410004</td>\n",
       "      <td>129.949997</td>\n",
       "      <td>127.430000</td>\n",
       "      <td>129.929993</td>\n",
       "      <td>129.378006</td>\n",
       "      <td>77034200</td>\n",
       "      <td>146.845556</td>\n",
       "      <td>136.037517</td>\n",
       "      <td>130.185677</td>\n",
       "      <td>0.420006</td>\n",
       "      <td>2.100006</td>\n",
       "    </tr>\n",
       "  </tbody>\n",
       "</table>\n",
       "<p>747 rows × 11 columns</p>\n",
       "</div>"
      ],
      "text/plain": [
       "                  Open        High         Low       Close   Adj Close  \\\n",
       "Date                                                                     \n",
       "2020-01-15   77.962502   78.875000   77.387497   77.834999   75.929253   \n",
       "2020-01-16   78.397499   78.925003   78.022499   78.809998   76.880371   \n",
       "2020-01-17   79.067497   79.684998   78.750000   79.682503   77.731529   \n",
       "2020-01-21   79.297501   79.754997   79.000000   79.142502   77.204742   \n",
       "2020-01-22   79.644997   79.997498   79.327499   79.425003   77.480331   \n",
       "...                ...         ...         ...         ...         ...   \n",
       "2022-12-23  130.919998  132.419998  129.639999  131.860001  131.299820   \n",
       "2022-12-27  131.380005  131.410004  128.720001  130.029999  129.477585   \n",
       "2022-12-28  129.669998  131.029999  125.870003  126.040001  125.504539   \n",
       "2022-12-29  127.989998  130.479996  127.730003  129.610001  129.059372   \n",
       "2022-12-30  128.410004  129.949997  127.430000  129.929993  129.378006   \n",
       "\n",
       "               Volume     rolling        EMWA       EMWA3  \\\n",
       "Date                                                        \n",
       "2020-01-15  121923600         NaN   77.962502   77.962502   \n",
       "2020-01-16  108829200         NaN   78.006001   78.093001   \n",
       "2020-01-17  137816400         NaN   78.112151   78.385350   \n",
       "2020-01-21  110843200         NaN   78.230686   78.658995   \n",
       "2020-01-22  101832400         NaN   78.372117   78.954795   \n",
       "...               ...         ...         ...         ...   \n",
       "2022-12-23   63814900  148.691112  139.607597  134.128631   \n",
       "2022-12-27   69007800  148.220334  138.784838  133.304043   \n",
       "2022-12-28   85438400  147.738556  137.873354  132.213830   \n",
       "2022-12-29   75703700  147.275223  136.885018  130.946680   \n",
       "2022-12-30   77034200  146.845556  136.037517  130.185677   \n",
       "\n",
       "            open_first_difference  open_second_difference  \n",
       "Date                                                       \n",
       "2020-01-15                    NaN                     NaN  \n",
       "2020-01-16               0.434998                     NaN  \n",
       "2020-01-17               0.669998                0.235001  \n",
       "2020-01-21               0.230003               -0.439995  \n",
       "2020-01-22               0.347496                0.117493  \n",
       "...                           ...                     ...  \n",
       "2022-12-23              -3.430008               -4.800018  \n",
       "2022-12-27               0.460007                3.890015  \n",
       "2022-12-28              -1.710007               -2.170013  \n",
       "2022-12-29              -1.680000                0.030006  \n",
       "2022-12-30               0.420006                2.100006  \n",
       "\n",
       "[747 rows x 11 columns]"
      ]
     },
     "execution_count": 517,
     "metadata": {},
     "output_type": "execute_result"
    }
   ],
   "source": [
    "train_data"
   ]
  },
  {
   "cell_type": "code",
   "execution_count": 558,
   "id": "243450a6-11a3-43fe-8c16-4e85431cc458",
   "metadata": {},
   "outputs": [
    {
     "name": "stderr",
     "output_type": "stream",
     "text": [
      "C:\\Users\\HP\\anaconda3\\lib\\site-packages\\statsmodels\\tsa\\base\\tsa_model.py:471: ValueWarning: A date index has been provided, but it has no associated frequency information and so will be ignored when e.g. forecasting.\n",
      "  self._init_dates(dates, freq)\n",
      "C:\\Users\\HP\\anaconda3\\lib\\site-packages\\statsmodels\\tsa\\base\\tsa_model.py:471: ValueWarning: A date index has been provided, but it has no associated frequency information and so will be ignored when e.g. forecasting.\n",
      "  self._init_dates(dates, freq)\n",
      "C:\\Users\\HP\\anaconda3\\lib\\site-packages\\statsmodels\\tsa\\base\\tsa_model.py:471: ValueWarning: A date index has been provided, but it has no associated frequency information and so will be ignored when e.g. forecasting.\n",
      "  self._init_dates(dates, freq)\n"
     ]
    }
   ],
   "source": [
    "model_ARIMA=ARIMA(apple_data['Open'],order=(1,2,1))"
   ]
  },
  {
   "cell_type": "code",
   "execution_count": 559,
   "id": "6b74a46f-4f8e-45c1-9069-47b96d865eb0",
   "metadata": {},
   "outputs": [],
   "source": [
    "model_arima_fit=model_ARIMA.fit()"
   ]
  },
  {
   "cell_type": "code",
   "execution_count": 560,
   "id": "591b9cd3-ec3d-4b21-8089-83f00303f9e1",
   "metadata": {},
   "outputs": [
    {
     "data": {
      "text/html": [
       "<table class=\"simpletable\">\n",
       "<caption>SARIMAX Results</caption>\n",
       "<tr>\n",
       "  <th>Dep. Variable:</th>         <td>Open</td>       <th>  No. Observations:  </th>    <td>916</td>   \n",
       "</tr>\n",
       "<tr>\n",
       "  <th>Model:</th>            <td>ARIMA(1, 2, 1)</td>  <th>  Log Likelihood     </th> <td>-2228.104</td>\n",
       "</tr>\n",
       "<tr>\n",
       "  <th>Date:</th>            <td>Wed, 06 Sep 2023</td> <th>  AIC                </th> <td>4462.207</td> \n",
       "</tr>\n",
       "<tr>\n",
       "  <th>Time:</th>                <td>19:41:15</td>     <th>  BIC                </th> <td>4476.661</td> \n",
       "</tr>\n",
       "<tr>\n",
       "  <th>Sample:</th>                  <td>0</td>        <th>  HQIC               </th> <td>4467.724</td> \n",
       "</tr>\n",
       "<tr>\n",
       "  <th></th>                      <td> - 916</td>      <th>                     </th>     <td> </td>    \n",
       "</tr>\n",
       "<tr>\n",
       "  <th>Covariance Type:</th>        <td>opg</td>       <th>                     </th>     <td> </td>    \n",
       "</tr>\n",
       "</table>\n",
       "<table class=\"simpletable\">\n",
       "<tr>\n",
       "     <td></td>       <th>coef</th>     <th>std err</th>      <th>z</th>      <th>P>|z|</th>  <th>[0.025</th>    <th>0.975]</th>  \n",
       "</tr>\n",
       "<tr>\n",
       "  <th>ar.L1</th>  <td>   -0.0539</td> <td>    0.026</td> <td>   -2.072</td> <td> 0.038</td> <td>   -0.105</td> <td>   -0.003</td>\n",
       "</tr>\n",
       "<tr>\n",
       "  <th>ma.L1</th>  <td>   -0.9998</td> <td>    0.053</td> <td>  -19.005</td> <td> 0.000</td> <td>   -1.103</td> <td>   -0.897</td>\n",
       "</tr>\n",
       "<tr>\n",
       "  <th>sigma2</th> <td>    7.6156</td> <td>    0.468</td> <td>   16.288</td> <td> 0.000</td> <td>    6.699</td> <td>    8.532</td>\n",
       "</tr>\n",
       "</table>\n",
       "<table class=\"simpletable\">\n",
       "<tr>\n",
       "  <th>Ljung-Box (L1) (Q):</th>     <td>0.01</td> <th>  Jarque-Bera (JB):  </th> <td>113.33</td>\n",
       "</tr>\n",
       "<tr>\n",
       "  <th>Prob(Q):</th>                <td>0.92</td> <th>  Prob(JB):          </th>  <td>0.00</td> \n",
       "</tr>\n",
       "<tr>\n",
       "  <th>Heteroskedasticity (H):</th> <td>0.95</td> <th>  Skew:              </th>  <td>-0.32</td>\n",
       "</tr>\n",
       "<tr>\n",
       "  <th>Prob(H) (two-sided):</th>    <td>0.68</td> <th>  Kurtosis:          </th>  <td>4.60</td> \n",
       "</tr>\n",
       "</table><br/><br/>Warnings:<br/>[1] Covariance matrix calculated using the outer product of gradients (complex-step)."
      ],
      "text/plain": [
       "<class 'statsmodels.iolib.summary.Summary'>\n",
       "\"\"\"\n",
       "                               SARIMAX Results                                \n",
       "==============================================================================\n",
       "Dep. Variable:                   Open   No. Observations:                  916\n",
       "Model:                 ARIMA(1, 2, 1)   Log Likelihood               -2228.104\n",
       "Date:                Wed, 06 Sep 2023   AIC                           4462.207\n",
       "Time:                        19:41:15   BIC                           4476.661\n",
       "Sample:                             0   HQIC                          4467.724\n",
       "                                - 916                                         \n",
       "Covariance Type:                  opg                                         \n",
       "==============================================================================\n",
       "                 coef    std err          z      P>|z|      [0.025      0.975]\n",
       "------------------------------------------------------------------------------\n",
       "ar.L1         -0.0539      0.026     -2.072      0.038      -0.105      -0.003\n",
       "ma.L1         -0.9998      0.053    -19.005      0.000      -1.103      -0.897\n",
       "sigma2         7.6156      0.468     16.288      0.000       6.699       8.532\n",
       "===================================================================================\n",
       "Ljung-Box (L1) (Q):                   0.01   Jarque-Bera (JB):               113.33\n",
       "Prob(Q):                              0.92   Prob(JB):                         0.00\n",
       "Heteroskedasticity (H):               0.95   Skew:                            -0.32\n",
       "Prob(H) (two-sided):                  0.68   Kurtosis:                         4.60\n",
       "===================================================================================\n",
       "\n",
       "Warnings:\n",
       "[1] Covariance matrix calculated using the outer product of gradients (complex-step).\n",
       "\"\"\""
      ]
     },
     "execution_count": 560,
     "metadata": {},
     "output_type": "execute_result"
    }
   ],
   "source": [
    "model_arima_fit.summary()"
   ]
  },
  {
   "cell_type": "code",
   "execution_count": 594,
   "id": "a325aa13-bdd1-49d4-bbca-e3d5070c245d",
   "metadata": {},
   "outputs": [],
   "source": [
    "pred=model_arima_fit.predict(start=pred_start_date,end=pred_end_date)"
   ]
  },
  {
   "cell_type": "code",
   "execution_count": 595,
   "id": "613fe399-2b0a-42e5-991e-b1d32917b0df",
   "metadata": {},
   "outputs": [],
   "source": [
    "residuals=test_data['Open']-pred"
   ]
  },
  {
   "cell_type": "code",
   "execution_count": 596,
   "id": "ae77883b-32cf-4f92-b166-ffbde4f205ff",
   "metadata": {},
   "outputs": [
    {
     "data": {
      "text/plain": [
       "Date\n",
       "2023-01-03    1.821934\n",
       "2023-01-04   -3.362323\n",
       "2023-01-05   -0.011457\n",
       "2023-01-06   -1.175678\n",
       "2023-01-09    4.332555\n",
       "                ...   \n",
       "2023-08-29   -0.361841\n",
       "2023-08-30    5.101390\n",
       "2023-08-31    3.059337\n",
       "2023-09-01    1.679775\n",
       "2023-09-05   -1.249507\n",
       "Length: 169, dtype: float64"
      ]
     },
     "execution_count": 596,
     "metadata": {},
     "output_type": "execute_result"
    }
   ],
   "source": [
    "residuals"
   ]
  },
  {
   "cell_type": "code",
   "execution_count": 597,
   "id": "c7505d52-0d7d-4176-b212-e273e0f5369d",
   "metadata": {},
   "outputs": [
    {
     "data": {
      "text/plain": [
       "<AxesSubplot:ylabel='Density'>"
      ]
     },
     "execution_count": 597,
     "metadata": {},
     "output_type": "execute_result"
    },
    {
     "data": {
      "image/png": "[encoded data removed]",
      "text/plain": [
       "<Figure size 432x288 with 1 Axes>"
      ]
     },
     "metadata": {
      "needs_background": "light"
     },
     "output_type": "display_data"
    }
   ],
   "source": [
    "model_arima_fit.resid.plot(kind='kde')"
   ]
  },
  {
   "cell_type": "code",
   "execution_count": 598,
   "id": "a419d185-978a-4b0b-bff8-9f78ec9fa013",
   "metadata": {},
   "outputs": [
    {
     "name": "stderr",
     "output_type": "stream",
     "text": [
      "C:\\Users\\HP\\AppData\\Local\\Temp\\ipykernel_4112\\95659616.py:1: SettingWithCopyWarning: \n",
      "A value is trying to be set on a copy of a slice from a DataFrame.\n",
      "Try using .loc[row_indexer,col_indexer] = value instead\n",
      "\n",
      "See the caveats in the documentation: https://pandas.pydata.org/pandas-docs/stable/user_guide/indexing.html#returning-a-view-versus-a-copy\n",
      "  test_data['Predicted_ARIMA']=pred\n"
     ]
    }
   ],
   "source": [
    "test_data['Predicted_ARIMA']=pred"
   ]
  },
  {
   "cell_type": "code",
   "execution_count": 599,
   "id": "f561ae18-40e3-4f15-8adf-c2ef0ac7baa4",
   "metadata": {},
   "outputs": [
    {
     "data": {
      "text/plain": [
       "<AxesSubplot:xlabel='Date'>"
      ]
     },
     "execution_count": 599,
     "metadata": {},
     "output_type": "execute_result"
    },
    {
     "data": {
      "image/png": "[encoded data removed]",
      "text/plain": [
       "<Figure size 432x288 with 1 Axes>"
      ]
     },
     "metadata": {
      "needs_background": "light"
     },
     "output_type": "display_data"
    }
   ],
   "source": [
    "test_data[['Open','Predicted_ARIMA']].plot()"
   ]
  },
  {
   "cell_type": "code",
   "execution_count": 586,
   "id": "8e91146b-ec09-4602-861c-05b185ef91da",
   "metadata": {},
   "outputs": [
    {
     "name": "stderr",
     "output_type": "stream",
     "text": [
      "C:\\Users\\HP\\anaconda3\\lib\\site-packages\\statsmodels\\tsa\\base\\tsa_model.py:471: ValueWarning: A date index has been provided, but it has no associated frequency information and so will be ignored when e.g. forecasting.\n",
      "  self._init_dates(dates, freq)\n",
      "C:\\Users\\HP\\anaconda3\\lib\\site-packages\\statsmodels\\tsa\\base\\tsa_model.py:471: ValueWarning: A date index has been provided, but it has no associated frequency information and so will be ignored when e.g. forecasting.\n",
      "  self._init_dates(dates, freq)\n"
     ]
    }
   ],
   "source": [
    "model_SARIMA = SARIMAX(apple_data['Open'], order=(1,0,1), seasonal_order=(0,1,0,12))\n",
    "# we took d to be 0 in the first as the open seasonal differencing will be covered in seasonal order "
   ]
  },
  {
   "cell_type": "code",
   "execution_count": 600,
   "id": "fd9ff8ae-5e62-41d0-a6f2-6528a4a4c2b7",
   "metadata": {},
   "outputs": [],
   "source": [
    "results_SARIMA = model_SARIMA.fit()"
   ]
  },
  {
   "cell_type": "code",
   "execution_count": 601,
   "id": "7f69f92b-ca1c-41be-92be-d916c3f87114",
   "metadata": {},
   "outputs": [],
   "source": [
    "pred1=results_SARIMA.predict(start=pred_start_date,end=pred_end_date)"
   ]
  },
  {
   "cell_type": "code",
   "execution_count": 602,
   "id": "de1117ba-6a00-4bc6-8875-762866a91a6b",
   "metadata": {},
   "outputs": [],
   "source": [
    "residuals=test_data['Open']-pred1"
   ]
  },
  {
   "cell_type": "code",
   "execution_count": 603,
   "id": "7931a910-f5e9-4a98-84a4-c8f0ccf2ecf5",
   "metadata": {},
   "outputs": [
    {
     "data": {
      "text/plain": [
       "<AxesSubplot:ylabel='Density'>"
      ]
     },
     "execution_count": 603,
     "metadata": {},
     "output_type": "execute_result"
    },
    {
     "data": {
      "image/png": "[encoded data removed]",
      "text/plain": [
       "<Figure size 432x288 with 1 Axes>"
      ]
     },
     "metadata": {
      "needs_background": "light"
     },
     "output_type": "display_data"
    }
   ],
   "source": [
    "residuals.plot(kind='kde')"
   ]
  },
  {
   "cell_type": "code",
   "execution_count": 608,
   "id": "27a3750e-9546-414e-a469-6c0b6ff55b43",
   "metadata": {},
   "outputs": [
    {
     "name": "stderr",
     "output_type": "stream",
     "text": [
      "C:\\Users\\HP\\AppData\\Local\\Temp\\ipykernel_4112\\875161322.py:1: SettingWithCopyWarning: \n",
      "A value is trying to be set on a copy of a slice from a DataFrame.\n",
      "Try using .loc[row_indexer,col_indexer] = value instead\n",
      "\n",
      "See the caveats in the documentation: https://pandas.pydata.org/pandas-docs/stable/user_guide/indexing.html#returning-a-view-versus-a-copy\n",
      "  test_data['Predicted_SARIMA']=pred1\n"
     ]
    }
   ],
   "source": [
    "test_data['Predicted_SARIMA']=pred1"
   ]
  },
  {
   "cell_type": "code",
   "execution_count": 609,
   "id": "55f28873-1ed1-4d74-af06-9ba9453e2f51",
   "metadata": {},
   "outputs": [
    {
     "data": {
      "text/plain": [
       "<AxesSubplot:xlabel='Date'>"
      ]
     },
     "execution_count": 609,
     "metadata": {},
     "output_type": "execute_result"
    },
    {
     "data": {
      "image/png": "[encoded data removed]",
      "text/plain": [
       "<Figure size 432x288 with 1 Axes>"
      ]
     },
     "metadata": {
      "needs_background": "light"
     },
     "output_type": "display_data"
    }
   ],
   "source": [
    "test_data[['Open','Predicted_SARIMA']].plot()"
   ]
  },
  {
   "cell_type": "code",
   "execution_count": 610,
   "id": "c1c82174-dde0-4963-a8bf-458bfebd55d3",
   "metadata": {},
   "outputs": [
    {
     "data": {
      "text/plain": [
       "<AxesSubplot:xlabel='Date'>"
      ]
     },
     "execution_count": 610,
     "metadata": {},
     "output_type": "execute_result"
    },
    {
     "data": {
      "image/png": "[encoded data removed]",
      "text/plain": [
       "<Figure size 432x288 with 1 Axes>"
      ]
     },
     "metadata": {
      "needs_background": "light"
     },
     "output_type": "display_data"
    }
   ],
   "source": [
    "test_data[['Open','Predicted_SARIMA','Predicted_ARIMA']].plot()"
   ]
  },
  {
   "cell_type": "code",
   "execution_count": null,
   "id": "93d7e258-7fb1-4982-8b8f-33289f5b20a4",
   "metadata": {},
   "outputs": [],
   "source": [
    "#WHY Arima is better than SARIMA in this one?\n",
    "#Because this one is not a seasonal order and changes every year "
   ]
  }
 ],
 "metadata": {
  "kernelspec": {
   "display_name": "Python 3 (ipykernel)",
   "language": "python",
   "name": "python3"
  },
  "language_info": {
   "codemirror_mode": {
    "name": "ipython",
    "version": 3
   },
   "file_extension": ".py",
   "mimetype": "text/x-python",
   "name": "python",
   "nbconvert_exporter": "python",
   "pygments_lexer": "ipython3",
   "version": "3.9.12"
  }
 },
 "nbformat": 4,
 "nbformat_minor": 5
}
